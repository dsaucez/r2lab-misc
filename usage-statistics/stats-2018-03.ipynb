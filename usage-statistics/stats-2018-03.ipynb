{
 "cells": [
  {
   "cell_type": "markdown",
   "metadata": {},
   "source": [
    "# Stats in R2lab"
   ]
  },
  {
   "cell_type": "markdown",
   "metadata": {},
   "source": [
    "## Scope\n",
    "\n",
    "The working assumption here is that the interesting data is\n",
    "\n",
    "* the percentage of usage on a given period start .. end\n",
    "\n",
    "* the total number of relevant accounts and slices\n",
    "\n",
    "* also we might wish to pinpoint entries in the db that\n",
    "  correspond to some operation conditions. For example,\n",
    "  as of march 2018, we are interested in the disabled accounts\n",
    "  attached to the r2lab site, because we suspect some people in\n",
    "  this set have been trying to join but that was never acted upon..."
   ]
  },
  {
   "cell_type": "markdown",
   "metadata": {},
   "source": [
    "## Changelog\n",
    "\n",
    "* 2018 March; this a rebuild - see `stats-old.py` - of a previously rather ad hoc script. The present version will be OK for mostly 2017 and later, as we ignore the old data stored in json files.\n",
    "\n",
    "* 2017 November; at that time - again, see `stats-old.py` - we used 2 different sources of data, presumably because of the migration from the omf/rest API to myplc."
   ]
  },
  {
   "cell_type": "markdown",
   "metadata": {},
   "source": [
    "## Prerequisite\n",
    "\n",
    "* we need to have the complete list of slices, but PLCAPI won't let us access to slices that are deleted - so essentially the ones that have expired;\n",
    "\n",
    "* so in order to compensate for that, you need to run the script `gather-slices.py` on `r2labapi.inria.fr` and then retrieve the corresponding output here - typically a file named `SLICES-2018-03-23.json`\n",
    "\n",
    "```\n",
    "[root@r2labapi ~]# cd r2lab-misc/usage-statistics/\n",
    "[root@r2labapi usage-statistics]# git pull\n",
    "Updating 17c7136..d892b36\n",
    "Fast-forward\n",
    " usage-statistics/gather-slices.py    | 73 +++++++++++++++++++++++++++++++++++++++++++++++++++++++++++++++++++++++++\n",
    " usage-statistics/stats-2018-03.ipynb | 39 +++++++++++++++++++++++++++++++++------\n",
    " 2 files changed, 106 insertions(+), 6 deletions(-)\n",
    " create mode 100755 usage-statistics/gather-slices.py\n",
    "[root@r2labapi usage-statistics]# ./gather-slices.py\n",
    "(Over)wrote SLICES-2018-03-23.json\n",
    "```"
   ]
  },
  {
   "cell_type": "markdown",
   "metadata": {},
   "source": [
    "Then make sure to retrieve that file locally and define its name here:\n",
    "\n",
    "```\n",
    "tparment ~/git/r2lab-misc/usage-statistics (master=) $ rsync -ai $(plr r2labapi):r2lab-misc/usage-statistics/SLICES\\* .\n",
    ">f..t.... SLICES-2018-03-23.json\n",
    "```"
   ]
  },
  {
   "cell_type": "code",
   "execution_count": 1,
   "metadata": {},
   "outputs": [],
   "source": [
    "slices_filename = \"SLICES-2018-03-23.json\""
   ]
  },
  {
   "cell_type": "code",
   "execution_count": 2,
   "metadata": {},
   "outputs": [
    {
     "name": "stdout",
     "output_type": "stream",
     "text": [
      "OK\n"
     ]
    }
   ],
   "source": [
    "import json\n",
    "\n",
    "with open(slices_filename) as feed:\n",
    "    all_slices = json.loads(feed.read())\n",
    "    print(\"OK\")"
   ]
  },
  {
   "cell_type": "markdown",
   "metadata": {},
   "source": [
    "# Convenience"
   ]
  },
  {
   "cell_type": "markdown",
   "metadata": {},
   "source": [
    "This cell is only here so that any change in the code gets reloaded."
   ]
  },
  {
   "cell_type": "code",
   "execution_count": 3,
   "metadata": {},
   "outputs": [],
   "source": [
    "%load_ext autoreload\n",
    "%autoreload 2"
   ]
  },
  {
   "cell_type": "markdown",
   "metadata": {},
   "source": [
    "# Proxying / password to the API"
   ]
  },
  {
   "cell_type": "markdown",
   "metadata": {},
   "source": [
    "You need to know the password of the PLCAPI admin account on `r2labapi.inria.fr`"
   ]
  },
  {
   "cell_type": "code",
   "execution_count": 4,
   "metadata": {},
   "outputs": [
    {
     "name": "stdout",
     "output_type": "stream",
     "text": [
      "Enter password for root@r2lab.inria.fr : ········\n"
     ]
    }
   ],
   "source": [
    "import getpass\n",
    "account = \"root@r2lab.inria.fr\"\n",
    "password = getpass.getpass(f\"Enter password for {account} : \")"
   ]
  },
  {
   "cell_type": "code",
   "execution_count": 5,
   "metadata": {},
   "outputs": [],
   "source": [
    "# let's check that\n",
    "auth = {'AuthMethod' : 'password',\n",
    "        'Username' : account,\n",
    "        'AuthString' : password}\n",
    "\n",
    "import xmlrpc.client\n",
    "url = \"https://r2labapi.inria.fr:443/PLCAPI/\""
   ]
  },
  {
   "cell_type": "code",
   "execution_count": 6,
   "metadata": {},
   "outputs": [
    {
     "name": "stdout",
     "output_type": "stream",
     "text": [
      "1\n"
     ]
    }
   ],
   "source": [
    "# if everything is OK this should print '1'\n",
    "proxy = xmlrpc.client.ServerProxy(url)\n",
    "try:\n",
    "    print(proxy.AuthCheck(auth))\n",
    "except Exception as e:\n",
    "    print(f\"OOPS, something wrong with {type(e)} - {e}\")"
   ]
  },
  {
   "cell_type": "markdown",
   "metadata": {},
   "source": [
    "*********"
   ]
  },
  {
   "cell_type": "markdown",
   "metadata": {},
   "source": [
    "## Time formats"
   ]
  },
  {
   "cell_type": "code",
   "execution_count": 7,
   "metadata": {},
   "outputs": [],
   "source": [
    "from timeutils import parse_date, human_readable"
   ]
  },
  {
   "cell_type": "code",
   "execution_count": 8,
   "metadata": {
    "cell_style": "split"
   },
   "outputs": [
    {
     "name": "stdout",
     "output_type": "stream",
     "text": [
      "input_string 2017-01-01\n"
     ]
    },
    {
     "data": {
      "text/plain": [
       "1483225200.0"
      ]
     },
     "execution_count": 8,
     "metadata": {},
     "output_type": "execute_result"
    }
   ],
   "source": [
    "p1 = parse_date(\"2017-01-01\")\n",
    "p1"
   ]
  },
  {
   "cell_type": "code",
   "execution_count": 9,
   "metadata": {
    "cell_style": "split"
   },
   "outputs": [
    {
     "name": "stdout",
     "output_type": "stream",
     "text": [
      "input_string 2017-01-01\n"
     ]
    },
    {
     "data": {
      "text/plain": [
       "1483311600.0"
      ]
     },
     "execution_count": 9,
     "metadata": {},
     "output_type": "execute_result"
    }
   ],
   "source": [
    "p2 = parse_date(\"2017-01-01\", end=True)\n",
    "p2"
   ]
  },
  {
   "cell_type": "code",
   "execution_count": 10,
   "metadata": {
    "cell_style": "split"
   },
   "outputs": [
    {
     "data": {
      "text/plain": [
       "'2016-12-31T23:00:UTC'"
      ]
     },
     "execution_count": 10,
     "metadata": {},
     "output_type": "execute_result"
    }
   ],
   "source": [
    "human_readable(p1)"
   ]
  },
  {
   "cell_type": "code",
   "execution_count": 11,
   "metadata": {
    "cell_style": "split"
   },
   "outputs": [
    {
     "data": {
      "text/plain": [
       "'2017-01-01T23:00:UTC'"
      ]
     },
     "execution_count": 11,
     "metadata": {},
     "output_type": "execute_result"
    }
   ],
   "source": [
    "human_readable(p2)"
   ]
  },
  {
   "cell_type": "markdown",
   "metadata": {},
   "source": [
    "## Enter your period of interest"
   ]
  },
  {
   "cell_type": "markdown",
   "metadata": {
    "slideshow": {
     "slide_type": ""
    }
   },
   "source": [
    "Second argument to `input_date` is the default answer"
   ]
  },
  {
   "cell_type": "code",
   "execution_count": 12,
   "metadata": {},
   "outputs": [],
   "source": [
    "from timeutils import input_default"
   ]
  },
  {
   "cell_type": "code",
   "execution_count": 13,
   "metadata": {},
   "outputs": [
    {
     "name": "stdout",
     "output_type": "stream",
     "text": [
      "Enter starting day [2017-01-01] : \n"
     ]
    }
   ],
   "source": [
    "sfrom = input_default(\"Enter starting day\", \"2017-01-01\")"
   ]
  },
  {
   "cell_type": "code",
   "execution_count": 14,
   "metadata": {},
   "outputs": [
    {
     "name": "stdout",
     "output_type": "stream",
     "text": [
      "Enter ending day [2017-12-31] : \n"
     ]
    }
   ],
   "source": [
    "suntil = input_default(\"Enter ending day\", \"2017-12-31\")"
   ]
  },
  {
   "cell_type": "code",
   "execution_count": 15,
   "metadata": {},
   "outputs": [
    {
     "name": "stdout",
     "output_type": "stream",
     "text": [
      "input_string 2017-01-01\n",
      "input_string 2017-12-31\n",
      "Period of interest: 2016-12-31T23:00:UTC - 2017-12-31T23:00:UTC\n",
      "Total duration = 365.0 days\n"
     ]
    }
   ],
   "source": [
    "ifrom, iuntil = parse_date(sfrom), parse_date(suntil, end=True)\n",
    "print(f\"Period of interest: {human_readable(ifrom)} - {human_readable(iuntil)}\")\n",
    "print(f\"Total duration = {(iuntil-ifrom)//(24*3600)} days\")"
   ]
  },
  {
   "cell_type": "markdown",
   "metadata": {},
   "source": [
    "# Fetching user accounts"
   ]
  },
  {
   "cell_type": "code",
   "execution_count": 16,
   "metadata": {},
   "outputs": [
    {
     "name": "stdout",
     "output_type": "stream",
     "text": [
      "We have 82 accounts\n"
     ]
    }
   ],
   "source": [
    "all_accounts = proxy.GetPersons(auth)\n",
    "\n",
    "print(f\"We have {len(all_accounts)} accounts\")"
   ]
  },
  {
   "cell_type": "code",
   "execution_count": 17,
   "metadata": {},
   "outputs": [],
   "source": [
    "#all_accounts[0]"
   ]
  },
  {
   "cell_type": "markdown",
   "metadata": {},
   "source": [
    "This will add a `login_base` field to each user account, to identify the attached institution:"
   ]
  },
  {
   "cell_type": "code",
   "execution_count": 18,
   "metadata": {},
   "outputs": [],
   "source": [
    "all_sites = proxy.GetSites(auth)\n",
    "site_hash = { site['site_id'] : site for site in all_sites}\n",
    "for account in all_accounts:\n",
    "    site_ids = account['site_ids']\n",
    "    if not site_ids:\n",
    "        account['login_base'] = '(none)'\n",
    "    if len(site_ids) == 1:\n",
    "        account['login_base'] = site_hash[account['site_ids'][0]]['login_base']\n",
    "    else:\n",
    "        account['login_base'] = '(' + \",\".join(site_hash[site_id]['login_base'] for site_id in site_ids) + ')'"
   ]
  },
  {
   "cell_type": "markdown",
   "metadata": {},
   "source": [
    "# Classifications - import data from excel"
   ]
  },
  {
   "cell_type": "markdown",
   "metadata": {},
   "source": [
    "Let's load Walid's paper on the accounts; this is to be able to classify usages and accounts into several categories."
   ]
  },
  {
   "cell_type": "code",
   "execution_count": 19,
   "metadata": {},
   "outputs": [],
   "source": [
    "import pandas as pd"
   ]
  },
  {
   "cell_type": "markdown",
   "metadata": {},
   "source": [
    "Originally this is an excel file `accounts-annotations.xls`. We need an extra library to be able to read `xlsx` files directly:\n",
    "\n",
    "    pip3 install xlrd"
   ]
  },
  {
   "cell_type": "code",
   "execution_count": 20,
   "metadata": {},
   "outputs": [],
   "source": [
    "# read excel file\n",
    "df = pd.read_excel('accounts-annotations.xlsx', encoding='cp1252')"
   ]
  },
  {
   "cell_type": "code",
   "execution_count": 21,
   "metadata": {},
   "outputs": [],
   "source": [
    "# our main index is the 'Mail' column\n",
    "df = df.set_index('email')"
   ]
  },
  {
   "cell_type": "code",
   "execution_count": 22,
   "metadata": {},
   "outputs": [
    {
     "data": {
      "text/html": [
       "<div>\n",
       "<style scoped>\n",
       "    .dataframe tbody tr th:only-of-type {\n",
       "        vertical-align: middle;\n",
       "    }\n",
       "\n",
       "    .dataframe tbody tr th {\n",
       "        vertical-align: top;\n",
       "    }\n",
       "\n",
       "    .dataframe thead th {\n",
       "        text-align: right;\n",
       "    }\n",
       "</style>\n",
       "<table border=\"1\" class=\"dataframe\">\n",
       "  <thead>\n",
       "    <tr style=\"text-align: right;\">\n",
       "      <th></th>\n",
       "      <th>year</th>\n",
       "      <th>month</th>\n",
       "      <th>day</th>\n",
       "      <th>id</th>\n",
       "      <th>country</th>\n",
       "      <th>family</th>\n",
       "      <th>diana</th>\n",
       "      <th>fit</th>\n",
       "      <th>others</th>\n",
       "      <th>comments</th>\n",
       "    </tr>\n",
       "    <tr>\n",
       "      <th>email</th>\n",
       "      <th></th>\n",
       "      <th></th>\n",
       "      <th></th>\n",
       "      <th></th>\n",
       "      <th></th>\n",
       "      <th></th>\n",
       "      <th></th>\n",
       "      <th></th>\n",
       "      <th></th>\n",
       "      <th></th>\n",
       "    </tr>\n",
       "  </thead>\n",
       "  <tbody>\n",
       "    <tr>\n",
       "      <th>ramonreisfontes@gmail.com</th>\n",
       "      <td>2016</td>\n",
       "      <td>12</td>\n",
       "      <td>16</td>\n",
       "      <td>id=006</td>\n",
       "      <td>Brésil</td>\n",
       "      <td>academia</td>\n",
       "      <td>-</td>\n",
       "      <td>-</td>\n",
       "      <td>yes</td>\n",
       "      <td>NaN</td>\n",
       "    </tr>\n",
       "    <tr>\n",
       "      <th>navid.nikaein@eurecom.fr</th>\n",
       "      <td>2016</td>\n",
       "      <td>12</td>\n",
       "      <td>16</td>\n",
       "      <td>id=004</td>\n",
       "      <td>France</td>\n",
       "      <td>academia</td>\n",
       "      <td>-</td>\n",
       "      <td>-</td>\n",
       "      <td>yes</td>\n",
       "      <td>NaN</td>\n",
       "    </tr>\n",
       "    <tr>\n",
       "      <th>loic.baron@lip6.fr</th>\n",
       "      <td>2016</td>\n",
       "      <td>12</td>\n",
       "      <td>16</td>\n",
       "      <td>id=003</td>\n",
       "      <td>France</td>\n",
       "      <td>academia</td>\n",
       "      <td>-</td>\n",
       "      <td>yes</td>\n",
       "      <td>-</td>\n",
       "      <td>NaN</td>\n",
       "    </tr>\n",
       "  </tbody>\n",
       "</table>\n",
       "</div>"
      ],
      "text/plain": [
       "                           year  month  day      id country    family diana  \\\n",
       "email                                                                         \n",
       "ramonreisfontes@gmail.com  2016     12   16  id=006  Brésil  academia     -   \n",
       "navid.nikaein@eurecom.fr   2016     12   16  id=004  France  academia     -   \n",
       "loic.baron@lip6.fr         2016     12   16  id=003  France  academia     -   \n",
       "\n",
       "                           fit others comments  \n",
       "email                                           \n",
       "ramonreisfontes@gmail.com    -    yes      NaN  \n",
       "navid.nikaein@eurecom.fr     -    yes      NaN  \n",
       "loic.baron@lip6.fr         yes      -      NaN  "
      ]
     },
     "execution_count": 22,
     "metadata": {},
     "output_type": "execute_result"
    }
   ],
   "source": [
    "df.iloc[3:6]"
   ]
  },
  {
   "cell_type": "markdown",
   "metadata": {},
   "source": [
    "### Annotate `all_accounts`"
   ]
  },
  {
   "cell_type": "code",
   "execution_count": 23,
   "metadata": {},
   "outputs": [],
   "source": [
    "for account in all_accounts:\n",
    "    if not account['enabled']:\n",
    "        # print(f\"ignoring disabled account {account['email']}\")\n",
    "        continue\n",
    "    try:\n",
    "        email = account['email']\n",
    "        excel_row = df.loc[email]\n",
    "        # academia or industry\n",
    "        family = excel_row['family']\n",
    "        if family in ('academia', 'industry'):\n",
    "            account['family'] = family\n",
    "        else:\n",
    "            print(f\"Unknown family for {email} ! (in {account['login_base']})\")\n",
    "        if excel_row['diana'] == 'yes':\n",
    "            account['scope'] = 'diana'\n",
    "        elif excel_row['fit'] == 'yes':\n",
    "            account['scope'] = 'fit'\n",
    "        elif excel_row['others'] == 'yes':\n",
    "            account['scope'] = 'others'\n",
    "        else:\n",
    "            print(f\"Unknown scope for {email} ! (in {account['login_base']})\")\n",
    "    except Exception as e:\n",
    "        print(f'OOPS with email={email} - {type(e)} - {e}')\n"
   ]
  },
  {
   "cell_type": "markdown",
   "metadata": {},
   "source": [
    "If the above cell has not printed any warning, we have all active user accounts tagged with \n",
    "* `family` as either `academia` or industry\n",
    "* `scope` as `diana`, `fit` or `others`"
   ]
  },
  {
   "cell_type": "markdown",
   "metadata": {},
   "source": [
    "# Stats on user accounts"
   ]
  },
  {
   "cell_type": "code",
   "execution_count": 24,
   "metadata": {},
   "outputs": [],
   "source": [
    "def show_accounts(accounts):\n",
    "    accounts.sort(key = lambda person: person['date_created'])\n",
    "    for i, account in enumerate(accounts, 1):\n",
    "        default = 'n/a' if account['enabled'] else '--'\n",
    "        print(f\"[{i:02d}] \"\n",
    "              f\" {'OK' if account['enabled'] else 'KO'}\"\n",
    "              f\" {human_readable(account['date_created'])}\"\n",
    "              f\" {account['login_base']:22s}\",\n",
    "              f\" {account.get('family', default):8s}\",\n",
    "              f\" {account.get('scope', default):8s}\",\n",
    "              f\" {account['email']}\")"
   ]
  },
  {
   "cell_type": "code",
   "execution_count": 25,
   "metadata": {},
   "outputs": [
    {
     "name": "stdout",
     "output_type": "stream",
     "text": [
      "we have a total of 82 accounts\n"
     ]
    }
   ],
   "source": [
    "# in case you need to see all accounts\n",
    "# show_accounts(all_accounts)\n",
    "print(f\"we have a total of {len(all_accounts)} accounts\")"
   ]
  },
  {
   "cell_type": "markdown",
   "metadata": {},
   "source": [
    "### narrowing on the selected period"
   ]
  },
  {
   "cell_type": "code",
   "execution_count": 26,
   "metadata": {},
   "outputs": [],
   "source": [
    "selected_accounts = [\n",
    "    account for account in all_accounts \n",
    "    if account['date_created'] >= ifrom and\n",
    "       account['date_created'] <= iuntil\n",
    "]"
   ]
  },
  {
   "cell_type": "code",
   "execution_count": 27,
   "metadata": {},
   "outputs": [
    {
     "name": "stdout",
     "output_type": "stream",
     "text": [
      "a total of 58 accounts were created over the selected period\n"
     ]
    }
   ],
   "source": [
    "# show_accounts(selected_accounts)\n",
    "print(f\"a total of {len(selected_accounts)} accounts were created over the selected period\")"
   ]
  },
  {
   "cell_type": "markdown",
   "metadata": {},
   "source": [
    "### focusing on enabled accounts (What really matters)"
   ]
  },
  {
   "cell_type": "code",
   "execution_count": 28,
   "metadata": {},
   "outputs": [],
   "source": [
    "enabled_accounts_in_selected_period = [\n",
    "    account for account in selected_accounts if account['enabled']\n",
    "]"
   ]
  },
  {
   "cell_type": "code",
   "execution_count": 29,
   "metadata": {},
   "outputs": [
    {
     "name": "stdout",
     "output_type": "stream",
     "text": [
      "New enabled accounts in the selected period = 32\n"
     ]
    }
   ],
   "source": [
    "print(f\"New enabled accounts in the selected period = {len(enabled_accounts_in_selected_period)}\")"
   ]
  },
  {
   "cell_type": "code",
   "execution_count": 30,
   "metadata": {},
   "outputs": [
    {
     "name": "stdout",
     "output_type": "stream",
     "text": [
      "[01]  OK 2017-01-11T11:37:UTC inria                   academia  fit       fabrice.valois@insa-lyon.fr\n",
      "[02]  OK 2017-01-11T11:37:UTC inria                   academia  fit       jad.oueis@insa-lyon.fr\n",
      "[03]  OK 2017-01-11T11:37:UTC inria                   academia  fit       razvan.stanica@inria.fr\n",
      "[04]  OK 2017-01-24T16:22:UTC inria                   academia  diana     arnaud.legout@inria.fr\n",
      "[05]  OK 2017-02-15T18:19:UTC inria                   academia  diana     mondi.ravi@inria.fr\n",
      "[06]  OK 2017-02-15T18:25:UTC inria                   academia  diana     mondi.ravi@gmail.com\n",
      "[07]  OK 2017-03-04T06:46:UTC inria                   academia  others    kishoregolla9@gmail.com\n",
      "[08]  OK 2017-03-09T09:57:UTC inria                   academia  diana     yassir.mr1@gmail.com\n",
      "[09]  OK 2017-03-09T19:18:UTC inria                   academia  others    sebastian.fehlandt@inria.cl\n",
      "[10]  OK 2017-04-06T19:36:UTC inria                   academia  others    victor.codocedo@inria.cl\n",
      "[11]  OK 2017-04-11T16:35:UTC inria                   academia  others    osama.arouk@inria.fr\n",
      "[12]  OK 2017-05-07T13:16:UTC inria                   academia  others    cappuzzo@eurecom.fr\n",
      "[13]  OK 2017-05-19T10:29:UTC (eurecomple,eurecoms3)  academia  others    hayes@eurecom.fr\n",
      "[14]  OK 2017-05-19T11:20:UTC eurecoms3               academia  others    aurelien.francillon@eurecom.fr\n",
      "[15]  OK 2017-05-19T11:29:UTC inria                   academia  others    t.c.hayes0@gmail.com\n",
      "[16]  OK 2017-07-03T07:43:UTC inria                   academia  others    manickavasagam.b@ktr.srmuniv.ac.in\n",
      "[17]  OK 2017-08-25T18:45:UTC inria                   academia  others    urauf@uncc.edu\n",
      "[18]  OK 2017-09-14T10:39:UTC inria                   academia  diana     muhammad-jawad.khokhar@inria.fr\n",
      "[19]  OK 2017-09-20T15:25:UTC eurecoms3               academia  others    sebastian.poeplau@eurecom.fr\n",
      "[20]  OK 2017-10-03T21:29:UTC inria                   industry  others    mirazabal@iquadrat.com\n",
      "[21]  OK 2017-10-16T21:38:UTC inria                   academia  others    kazi.puc@gmail.com\n",
      "[22]  OK 2017-10-19T12:12:UTC inria                   academia  others    salma.aitlhaj@gmail.com\n",
      "[23]  OK 2017-11-22T15:40:UTC inria                   academia  diana     gayatri.sivadoss@inria.fr\n",
      "[24]  OK 2017-11-23T09:25:UTC inria                   academia  diana     clat94@gmail.com\n",
      "[25]  OK 2017-12-04T11:34:UTC inria                   academia  diana     hardik.soni@inria.fr\n",
      "[26]  OK 2017-12-05T06:21:UTC inria                   academia  others    asaeda@ieee.org\n",
      "[27]  OK 2017-12-05T07:30:UTC inria                   academia  others    a-nagata@intelligent-design.co.jp\n",
      "[28]  OK 2017-12-05T07:30:UTC inria                   academia  others    y_yano@intelligent-design.co.jp\n",
      "[29]  OK 2017-12-05T07:31:UTC inria                   academia  others    kazuhisa@sfc.wide.ad.jp\n",
      "[30]  OK 2017-12-13T10:30:UTC inria                   industry  others    sihem.cherrared@orange.com\n",
      "[31]  OK 2017-12-13T11:04:UTC inria                   industry  others    ilhem.fajjari@orange.com\n",
      "[32]  OK 2017-12-18T11:23:UTC inria                   academia  diana     marc.vesin@inria.fr\n"
     ]
    }
   ],
   "source": [
    "show_accounts(enabled_accounts_in_selected_period)"
   ]
  },
  {
   "cell_type": "markdown",
   "metadata": {},
   "source": [
    "### By scope : diana / fit / others"
   ]
  },
  {
   "cell_type": "code",
   "execution_count": 31,
   "metadata": {},
   "outputs": [
    {
     "name": "stdout",
     "output_type": "stream",
     "text": [
      "in scope diana, 9 new enabled accounts\n",
      "in scope fit, 3 new enabled accounts\n",
      "in scope others, 20 new enabled accounts\n"
     ]
    }
   ],
   "source": [
    "for scope in ['diana', 'fit', 'others']:\n",
    "    scope_accounts = [account for account in enabled_accounts_in_selected_period\n",
    "                       if account['scope'] == scope]\n",
    "    print(f\"in scope {scope}, {len(scope_accounts)} new enabled accounts\")"
   ]
  },
  {
   "cell_type": "markdown",
   "metadata": {},
   "source": [
    "### By family : academia / industry"
   ]
  },
  {
   "cell_type": "code",
   "execution_count": 32,
   "metadata": {},
   "outputs": [
    {
     "name": "stdout",
     "output_type": "stream",
     "text": [
      "in family academia, 29 new enabled accounts\n",
      "in family industry, 3 new enabled accounts\n"
     ]
    }
   ],
   "source": [
    "for family in ['academia', 'industry']:\n",
    "    family_accounts = [account for account in enabled_accounts_in_selected_period\n",
    "                       if account['family'] == family]\n",
    "    print(f\"in family {family}, {len(family_accounts)} new enabled accounts\")"
   ]
  },
  {
   "cell_type": "markdown",
   "metadata": {},
   "source": [
    "# Classifying slices"
   ]
  },
  {
   "cell_type": "code",
   "execution_count": 33,
   "metadata": {},
   "outputs": [
    {
     "name": "stdout",
     "output_type": "stream",
     "text": [
      "Found 50 slices\n"
     ]
    }
   ],
   "source": [
    "# sort in expiration order    \n",
    "all_slices.sort(key = lambda slice: slice['expires'])\n",
    "    \n",
    "print(f\"Found {len(all_slices)} slices\")    "
   ]
  },
  {
   "cell_type": "code",
   "execution_count": 34,
   "metadata": {},
   "outputs": [],
   "source": [
    "def show_slices(slices):\n",
    "    for i, slice in enumerate(slices, 1):\n",
    "        print(f\"{i:02d} \"\n",
    "            f\" created {human_readable(slice['created'])}\"\n",
    "            f\" expires {human_readable(slice['expires'])}\"\n",
    "            f\" {slice['name']}\"\n",
    "         )"
   ]
  },
  {
   "cell_type": "code",
   "execution_count": 35,
   "metadata": {},
   "outputs": [
    {
     "name": "stdout",
     "output_type": "stream",
     "text": [
      "01  created 2016-12-16T13:27:UTC expires 2016-12-30T13:27:UTC upmc_mobicom.mobicom_demo\n",
      "02  created 2016-12-16T13:27:UTC expires 2016-12-30T13:27:UTC upmc_pltutorial.emulation\n",
      "03  created 2016-12-16T13:27:UTC expires 2016-12-30T13:27:UTC inria_farzaneh.routing\n",
      "04  created 2016-12-16T13:27:UTC expires 2016-12-30T13:27:UTC unicamp_wifisdn.slicesdn\n",
      "05  created 2016-12-16T13:27:UTC expires 2016-12-30T13:27:UTC upmc_ieee.infocom2016\n",
      "06  created 2016-12-16T13:27:UTC expires 2016-12-30T13:27:UTC inria_wifi.sdn\n",
      "07  created 2016-12-16T13:27:UTC expires 2016-12-30T13:27:UTC inria_iotlab.iotlab_slice\n",
      "08  created 2016-12-20T15:12:UTC expires 2017-01-03T15:12:UTC inria_mesh.routing\n",
      "09  created 2017-01-11T11:43:UTC expires 2017-01-25T11:43:UTC inria_citi4g\n",
      "10  created 2016-12-16T13:27:UTC expires 2017-02-17T14:30:UTC inria_oai.b210\n",
      "11  created 2016-12-16T13:27:UTC expires 2017-03-05T07:45:UTC inria_oai.skype\n",
      "12  created 2016-12-16T13:27:UTC expires 2017-03-05T19:27:UTC inria_anas.ping\n",
      "13  created 2017-03-05T16:50:UTC expires 2017-03-19T16:50:UTC inria_andhraiot\n",
      "14  created 2017-01-24T16:53:UTC expires 2017-03-27T16:53:UTC inria_es\n",
      "15  created 2017-03-13T19:36:UTC expires 2017-03-27T19:36:UTC inria_fehland3\n",
      "16  created 2016-12-16T13:27:UTC expires 2017-04-23T09:16:UTC inria_walid.demo\n",
      "17  created 2017-04-11T09:44:UTC expires 2017-04-25T09:44:UTC inria_codocedo\n",
      "18  created 2016-12-16T13:27:UTC expires 2017-04-30T09:00:UTC inria_mario.maintenance\n",
      "19  created 2016-12-16T13:27:UTC expires 2017-04-30T09:00:UTC inria_mario.script\n",
      "20  created 2017-03-11T15:13:UTC expires 2017-05-25T18:29:UTC inria_fehland1\n",
      "21  created 2017-03-13T19:36:UTC expires 2017-05-28T16:19:UTC inria_fehland2\n",
      "22  created 2017-05-16T15:14:UTC expires 2017-05-30T15:14:UTC inria_visit\n",
      "23  created 2017-05-22T19:56:UTC expires 2017-06-05T19:56:UTC eurecoms3_test\n",
      "24  created 2017-05-22T19:56:UTC expires 2017-06-05T19:56:UTC eurecoms3_test2\n",
      "25  created 2016-12-16T13:27:UTC expires 2017-07-14T15:56:UTC inria_oai.build\n",
      "26  created 2017-07-05T07:53:UTC expires 2017-07-19T07:53:UTC inria_manipooja\n",
      "27  created 2017-05-19T17:28:UTC expires 2017-07-22T17:11:UTC eurecoms3_coexist\n",
      "28  created 2017-03-13T10:51:UTC expires 2017-09-13T22:18:UTC inria_yassir\n",
      "29  created 2016-12-16T13:27:UTC expires 2017-10-16T12:08:UTC inria_r2lab.tutorial\n",
      "30  created 2017-08-25T18:59:UTC expires 2017-10-25T21:14:UTC inria_urauf\n",
      "31  created 2017-10-17T06:21:UTC expires 2017-10-31T06:21:UTC inria_kazi.puc\n",
      "32  created 2017-09-20T11:59:UTC expires 2017-12-06T15:19:UTC eurecoms3_today\n",
      "33  created 2017-09-21T15:28:UTC expires 2017-12-11T09:42:UTC inria_jawad\n",
      "34  created 2017-04-11T17:38:UTC expires 2018-02-05T04:08:UTC inria_oai.slicing\n",
      "35  created 2017-12-05T06:25:UTC expires 2018-02-19T00:16:UTC inria_cefore\n",
      "36  created 2018-02-13T15:32:UTC expires 2018-04-24T14:47:UTC inria_batman\n",
      "37  created 2018-02-15T12:00:UTC expires 2018-05-05T15:02:UTC inria_tp\n",
      "38  created 2017-06-08T17:04:UTC expires 2018-05-12T07:22:UTC inria_oai\n",
      "39  created 2016-12-16T13:27:UTC expires 2018-05-12T07:22:UTC inria_r2lab.admin\n",
      "40  created 2017-04-14T15:37:UTC expires 2018-05-12T07:22:UTC inria_radiomap\n",
      "41  created 2017-10-19T12:35:UTC expires 2018-05-12T07:22:UTC inria_l2bm\n",
      "42  created 2017-11-29T16:03:UTC expires 2018-05-12T07:22:UTC inria_pfe\n",
      "43  created 2016-12-16T13:27:UTC expires 2018-05-12T07:22:UTC inria_naoufal.mesh\n",
      "44  created 2016-12-16T13:27:UTC expires 2018-05-12T07:22:UTC inria_r2lab.nightly\n",
      "45  created 2017-11-22T15:52:UTC expires 2018-05-12T07:22:UTC inria_lora\n",
      "46  created 2017-10-17T13:47:UTC expires 2018-05-12T07:22:UTC inria_r2lab.tutorial\n",
      "47  created 2016-12-16T13:27:UTC expires 2038-01-18T03:14:UTC auto_netflow\n",
      "48  created 2016-12-16T13:27:UTC expires 2038-01-18T03:14:UTC auto_sirius\n",
      "49  created 2016-12-16T13:27:UTC expires 2038-01-18T03:14:UTC auto_sfacm\n",
      "50  created 2016-12-16T13:27:UTC expires 2038-01-18T03:14:UTC auto_drl\n"
     ]
    }
   ],
   "source": [
    "show_slices(all_slices)"
   ]
  },
  {
   "cell_type": "markdown",
   "metadata": {},
   "source": [
    "### Ignoring admin slices"
   ]
  },
  {
   "cell_type": "code",
   "execution_count": 36,
   "metadata": {},
   "outputs": [],
   "source": [
    "admin_slices = ['auto_', 'nightly', 'maintenance', 'tutorial']"
   ]
  },
  {
   "cell_type": "code",
   "execution_count": 37,
   "metadata": {},
   "outputs": [],
   "source": [
    "def relevant(slice_or_lease):\n",
    "    return not any(admin in slice_or_lease['name'] for admin in admin_slices)"
   ]
  },
  {
   "cell_type": "markdown",
   "metadata": {},
   "source": [
    "### classifying slices"
   ]
  },
  {
   "cell_type": "code",
   "execution_count": 38,
   "metadata": {},
   "outputs": [],
   "source": [
    "# hash accounts per person_id\n",
    "accounts_hash = { account['person_id'] : account for account in all_accounts}\n",
    "\n",
    "for slice in all_slices:\n",
    "    if not relevant(slice):\n",
    "        continue\n",
    "    person_ids = slice['person_ids']\n",
    "    slice['foo'] = [accounts_hash[person_id].get('family', '???') for person_id in slice['person_ids']]"
   ]
  },
  {
   "cell_type": "code",
   "execution_count": 39,
   "metadata": {},
   "outputs": [
    {
     "name": "stdout",
     "output_type": "stream",
     "text": [
      "upmc_mobicom.mobicom_demo []\n",
      "inria_farzaneh.routing []\n",
      "unicamp_wifisdn.slicesdn []\n",
      "upmc_ieee.infocom2016 []\n",
      "inria_wifi.sdn []\n",
      "inria_iotlab.iotlab_slice []\n",
      "inria_mesh.routing []\n",
      "inria_citi4g []\n",
      "inria_oai.b210 []\n",
      "inria_oai.skype []\n",
      "inria_anas.ping []\n",
      "inria_andhraiot []\n",
      "inria_es []\n",
      "inria_fehland3 []\n",
      "inria_walid.demo []\n",
      "inria_codocedo []\n",
      "inria_mario.script []\n",
      "inria_fehland1 []\n",
      "inria_fehland2 []\n",
      "inria_visit []\n",
      "eurecoms3_test []\n",
      "eurecoms3_test2 []\n",
      "inria_oai.build []\n",
      "inria_manipooja []\n",
      "eurecoms3_coexist []\n",
      "inria_yassir []\n",
      "inria_urauf []\n",
      "inria_kazi.puc []\n",
      "eurecoms3_today []\n",
      "inria_jawad []\n",
      "inria_oai.slicing []\n",
      "inria_cefore ['academia', 'academia', 'academia', 'academia']\n",
      "inria_batman ['academia']\n",
      "inria_tp ['academia']\n",
      "inria_oai ['academia', 'academia', 'academia', 'academia']\n",
      "inria_r2lab.admin ['academia', '???', 'academia', 'academia']\n",
      "inria_radiomap ['academia', 'academia', 'academia', 'academia', 'academia']\n",
      "inria_l2bm ['academia', 'academia', 'academia', 'academia']\n",
      "inria_pfe ['academia', 'academia', 'academia', 'academia', 'academia', 'academia', 'academia']\n",
      "inria_naoufal.mesh ['academia', 'academia', 'academia', 'academia']\n",
      "inria_lora ['academia', 'academia', 'academia', 'academia', 'academia']\n"
     ]
    }
   ],
   "source": [
    "for slice in all_slices:\n",
    "    if not relevant(slice):\n",
    "        continue\n",
    "    print(slice['name'], slice['foo'])"
   ]
  },
  {
   "cell_type": "markdown",
   "metadata": {},
   "source": [
    "Long story short, at this point we can safely consider that 100% of our usage is academy."
   ]
  },
  {
   "cell_type": "markdown",
   "metadata": {},
   "source": [
    "# Fetching leases"
   ]
  },
  {
   "cell_type": "code",
   "execution_count": 40,
   "metadata": {},
   "outputs": [
    {
     "name": "stdout",
     "output_type": "stream",
     "text": [
      "there have been 616 reservations made during the period\n"
     ]
    }
   ],
   "source": [
    "# fetch leases for that period\n",
    "selected_leases = proxy.GetLeases(\n",
    "    auth,\n",
    "    {'>t_from' : ifrom, '<t_from' : iuntil}\n",
    ")\n",
    "print(f\"there have been {len(selected_leases)} reservations made during the period\")"
   ]
  },
  {
   "cell_type": "markdown",
   "metadata": {},
   "source": [
    "### Sorting in ascending order"
   ]
  },
  {
   "cell_type": "code",
   "execution_count": 41,
   "metadata": {},
   "outputs": [],
   "source": [
    "selected_leases.sort(key=lambda lease: lease['t_from'])"
   ]
  },
  {
   "cell_type": "markdown",
   "metadata": {},
   "source": [
    "### A glimpse"
   ]
  },
  {
   "cell_type": "code",
   "execution_count": 42,
   "metadata": {},
   "outputs": [],
   "source": [
    "def lease_line(lease):\n",
    "    return f\"{lease['name']:25s} {human_readable(lease['t_from'])} -> {human_readable(lease['t_until'])}\""
   ]
  },
  {
   "cell_type": "code",
   "execution_count": 43,
   "metadata": {},
   "outputs": [],
   "source": [
    "def glimpse(leases, size=5):\n",
    "    for lease in leases[:size]:\n",
    "        print(lease_line(lease))\n",
    "    print(\"...\")\n",
    "    for lease in leases[-size:]:\n",
    "        print(lease_line(lease))"
   ]
  },
  {
   "cell_type": "code",
   "execution_count": 44,
   "metadata": {
    "cell_style": "center"
   },
   "outputs": [
    {
     "name": "stdout",
     "output_type": "stream",
     "text": [
      "inria_r2lab.nightly       2017-01-06T15:00:UTC -> 2017-01-06T16:00:UTC\n",
      "inria_naoufal.mesh        2017-01-09T15:30:UTC -> 2017-01-09T16:00:UTC\n",
      "inria_r2lab.nightly       2017-01-09T16:00:UTC -> 2017-01-09T17:00:UTC\n",
      "inria_r2lab.nightly       2017-01-11T02:00:UTC -> 2017-01-11T03:00:UTC\n",
      "inria_r2lab.nightly       2017-01-12T02:00:UTC -> 2017-01-12T03:00:UTC\n",
      "...\n",
      "inria_r2lab.nightly       2017-12-27T02:00:UTC -> 2017-12-27T03:00:UTC\n",
      "inria_pfe                 2017-12-27T14:40:UTC -> 2017-12-27T17:00:UTC\n",
      "inria_pfe                 2017-12-27T23:00:UTC -> 2017-12-28T03:00:UTC\n",
      "inria_cefore              2017-12-28T07:10:UTC -> 2017-12-28T08:00:UTC\n",
      "inria_r2lab.nightly       2017-12-31T02:00:UTC -> 2017-12-31T03:00:UTC\n"
     ]
    }
   ],
   "source": [
    "glimpse(selected_leases)"
   ]
  },
  {
   "cell_type": "markdown",
   "metadata": {},
   "source": [
    "# Usage ratio"
   ]
  },
  {
   "cell_type": "markdown",
   "metadata": {},
   "source": [
    "##### raw ratio *vs* opening hours\n",
    "\n",
    "The raw ratio is obtained by comparing the amount of time reserved with the total amount of time available.\n",
    "\n",
    "Assuming that opening hours would be mon-fri from 09:00 to 19:00"
   ]
  },
  {
   "cell_type": "code",
   "execution_count": 45,
   "metadata": {},
   "outputs": [
    {
     "name": "stdout",
     "output_type": "stream",
     "text": [
      "Opening hours are 29.76% of total hours\n"
     ]
    }
   ],
   "source": [
    "open_correction = (5 * 10) / (7 * 24)\n",
    "print(f\"Opening hours are {open_correction:.2%} of total hours\")"
   ]
  },
  {
   "cell_type": "markdown",
   "metadata": {},
   "source": [
    "##### user *vs* admin\n",
    "\n",
    "We try to classify the various slices in 2 families whether they are for management/operations purposes, or used for actual experimentation."
   ]
  },
  {
   "cell_type": "code",
   "execution_count": 46,
   "metadata": {},
   "outputs": [],
   "source": [
    "total_duration = iuntil - ifrom"
   ]
  },
  {
   "cell_type": "code",
   "execution_count": 47,
   "metadata": {},
   "outputs": [],
   "source": [
    "def show_usage_ratio(leases, total_duration, message):\n",
    "\n",
    "    def duration(lease):\n",
    "        return lease['t_until'] - lease['t_from']\n",
    "\n",
    "    reserved_duration = sum(duration(lease) for lease in leases)\n",
    "    print(f\"Total time reserved: {reserved_duration} / {total_duration} s\")\n",
    "    print(f\"                i.e: {reserved_duration/3600:.2f} / {total_duration/3600:.2f}    hours\")\n",
    "    print(f\"                i.e: {reserved_duration/(24*3600):.2f} / {total_duration/(24*3600):.2f}       days\")\n",
    "    \n",
    "    raw_ratio = reserved_duration / total_duration\n",
    "    print(f\"{message}: raw_ratio is {raw_ratio:.2%}\")\n",
    "    \n",
    "    open_ratio = raw_ratio / open_correction\n",
    "    print(f\"{message}: open_ratio is {open_ratio:.2%}\")"
   ]
  },
  {
   "cell_type": "code",
   "execution_count": 48,
   "metadata": {
    "cell_style": "center"
   },
   "outputs": [
    {
     "name": "stdout",
     "output_type": "stream",
     "text": [
      "Total time reserved: 4041600 / 31536000.0 s\n",
      "                i.e: 1122.67 / 8760.00    hours\n",
      "                i.e: 46.78 / 365.00       days\n",
      "ALL LEASES: raw_ratio is 12.82%\n",
      "ALL LEASES: open_ratio is 43.06%\n"
     ]
    }
   ],
   "source": [
    "show_usage_ratio(selected_leases, total_duration, \"ALL LEASES\")"
   ]
  },
  {
   "cell_type": "markdown",
   "metadata": {},
   "source": [
    "### Usage ratio - filtered"
   ]
  },
  {
   "cell_type": "markdown",
   "metadata": {},
   "source": [
    "We discard slices whose name contains any of the following"
   ]
  },
  {
   "cell_type": "code",
   "execution_count": 49,
   "metadata": {},
   "outputs": [],
   "source": [
    "filtered_leases = [lease for lease in selected_leases if relevant(lease)]"
   ]
  },
  {
   "cell_type": "code",
   "execution_count": 50,
   "metadata": {},
   "outputs": [
    {
     "name": "stdout",
     "output_type": "stream",
     "text": [
      "Total time reserved: 3663000 / 31536000.0 s\n",
      "                i.e: 1017.50 / 8760.00    hours\n",
      "                i.e: 42.40 / 365.00       days\n",
      "FILTERED LEASES: raw_ratio is 11.62%\n",
      "FILTERED LEASES: open_ratio is 39.03%\n"
     ]
    }
   ],
   "source": [
    "show_usage_ratio(filtered_leases, total_duration, \"FILTERED LEASES\")"
   ]
  },
  {
   "cell_type": "markdown",
   "metadata": {},
   "source": [
    "### validated *vs* non-validated accounts\n",
    "\n",
    "Still on the selected period, show the ones that were enabled or not"
   ]
  },
  {
   "cell_type": "code",
   "execution_count": 51,
   "metadata": {},
   "outputs": [],
   "source": [
    "enabled_selected_accounts = [ account for account in selected_accounts if account['enabled']]\n",
    "disabled_selected_accounts = [ account for account in selected_accounts if not account['enabled']]"
   ]
  },
  {
   "cell_type": "code",
   "execution_count": 52,
   "metadata": {},
   "outputs": [
    {
     "name": "stdout",
     "output_type": "stream",
     "text": [
      "[01]  OK 2017-01-11T11:37:UTC inria                   academia  fit       fabrice.valois@insa-lyon.fr\n",
      "[02]  OK 2017-01-11T11:37:UTC inria                   academia  fit       jad.oueis@insa-lyon.fr\n",
      "[03]  OK 2017-01-11T11:37:UTC inria                   academia  fit       razvan.stanica@inria.fr\n",
      "[04]  OK 2017-01-24T16:22:UTC inria                   academia  diana     arnaud.legout@inria.fr\n",
      "[05]  OK 2017-02-15T18:19:UTC inria                   academia  diana     mondi.ravi@inria.fr\n",
      "[06]  OK 2017-02-15T18:25:UTC inria                   academia  diana     mondi.ravi@gmail.com\n",
      "[07]  OK 2017-03-04T06:46:UTC inria                   academia  others    kishoregolla9@gmail.com\n",
      "[08]  OK 2017-03-09T09:57:UTC inria                   academia  diana     yassir.mr1@gmail.com\n",
      "[09]  OK 2017-03-09T19:18:UTC inria                   academia  others    sebastian.fehlandt@inria.cl\n",
      "[10]  OK 2017-04-06T19:36:UTC inria                   academia  others    victor.codocedo@inria.cl\n",
      "[11]  OK 2017-04-11T16:35:UTC inria                   academia  others    osama.arouk@inria.fr\n",
      "[12]  OK 2017-05-07T13:16:UTC inria                   academia  others    cappuzzo@eurecom.fr\n",
      "[13]  OK 2017-05-19T10:29:UTC (eurecomple,eurecoms3)  academia  others    hayes@eurecom.fr\n",
      "[14]  OK 2017-05-19T11:20:UTC eurecoms3               academia  others    aurelien.francillon@eurecom.fr\n",
      "[15]  OK 2017-05-19T11:29:UTC inria                   academia  others    t.c.hayes0@gmail.com\n",
      "[16]  OK 2017-07-03T07:43:UTC inria                   academia  others    manickavasagam.b@ktr.srmuniv.ac.in\n",
      "[17]  OK 2017-08-25T18:45:UTC inria                   academia  others    urauf@uncc.edu\n",
      "[18]  OK 2017-09-14T10:39:UTC inria                   academia  diana     muhammad-jawad.khokhar@inria.fr\n",
      "[19]  OK 2017-09-20T15:25:UTC eurecoms3               academia  others    sebastian.poeplau@eurecom.fr\n",
      "[20]  OK 2017-10-03T21:29:UTC inria                   industry  others    mirazabal@iquadrat.com\n",
      "[21]  OK 2017-10-16T21:38:UTC inria                   academia  others    kazi.puc@gmail.com\n",
      "[22]  OK 2017-10-19T12:12:UTC inria                   academia  others    salma.aitlhaj@gmail.com\n",
      "[23]  OK 2017-11-22T15:40:UTC inria                   academia  diana     gayatri.sivadoss@inria.fr\n",
      "[24]  OK 2017-11-23T09:25:UTC inria                   academia  diana     clat94@gmail.com\n",
      "[25]  OK 2017-12-04T11:34:UTC inria                   academia  diana     hardik.soni@inria.fr\n",
      "[26]  OK 2017-12-05T06:21:UTC inria                   academia  others    asaeda@ieee.org\n",
      "[27]  OK 2017-12-05T07:30:UTC inria                   academia  others    a-nagata@intelligent-design.co.jp\n",
      "[28]  OK 2017-12-05T07:30:UTC inria                   academia  others    y_yano@intelligent-design.co.jp\n",
      "[29]  OK 2017-12-05T07:31:UTC inria                   academia  others    kazuhisa@sfc.wide.ad.jp\n",
      "[30]  OK 2017-12-13T10:30:UTC inria                   industry  others    sihem.cherrared@orange.com\n",
      "[31]  OK 2017-12-13T11:04:UTC inria                   industry  others    ilhem.fajjari@orange.com\n",
      "[32]  OK 2017-12-18T11:23:UTC inria                   academia  diana     marc.vesin@inria.fr\n"
     ]
    }
   ],
   "source": [
    "show_accounts(enabled_selected_accounts)"
   ]
  },
  {
   "cell_type": "code",
   "execution_count": 53,
   "metadata": {},
   "outputs": [
    {
     "name": "stdout",
     "output_type": "stream",
     "text": [
      "[01]  KO 2017-01-10T11:52:UTC inria                   --        --        mario.zancanaro@inria.fr\n",
      "[02]  KO 2017-02-06T08:48:UTC r2lab                   --        --        raj85.vishwakarma@gmail.com\n",
      "[03]  KO 2017-03-09T09:12:UTC r2lab                   --        --        yassir.mr4@gmail.com\n",
      "[04]  KO 2017-05-05T12:27:UTC eurecomple              --        --        kharade.rohan@iitb.ac.in\n",
      "[05]  KO 2017-05-11T09:48:UTC eurecomple              --        --        info@try-rx.com\n",
      "[06]  KO 2017-05-19T20:18:UTC eurecomple              --        --        yoseph.maloche@studenti.unitn.it\n",
      "[07]  KO 2017-05-24T08:09:UTC inria                   --        --        qwerty1643@skku.edu\n",
      "[08]  KO 2017-06-27T09:29:UTC unicamp                 --        --        christophe.letoquin@orange.com\n",
      "[09]  KO 2017-07-03T06:52:UTC inria                   --        --        manipooja1990@gmail.com\n",
      "[10]  KO 2017-08-26T17:09:UTC r2lab                   --        --        rayansalhab@hotmail.com\n",
      "[11]  KO 2017-08-27T07:31:UTC inria                   --        --        xo79@qq.com\n",
      "[12]  KO 2017-09-04T11:53:UTC r2lab                   --        --        29776716@qq.com\n",
      "[13]  KO 2017-09-12T14:57:UTC inria                   --        --        zgouaksvic@mailstome.today\n",
      "[14]  KO 2017-09-26T19:49:UTC eurecoms3               --        --        dzakwanfalih@hotmail.com\n",
      "[15]  KO 2017-09-27T18:42:UTC r2lab                   --        --        yuchia.tseng@irt-systemx.fr\n",
      "[16]  KO 2017-10-01T00:36:UTC r2lab                   --        --        sample@email.tst\n",
      "[17]  KO 2017-10-01T01:00:UTC eurecomple              --        --        j1ltnl01@r2labapi.pl.sophia.inria.fr\n",
      "[18]  KO 2017-10-03T03:37:UTC r2lab                   --        --        a5566740293@gmail.com\n",
      "[19]  KO 2017-10-17T21:09:UTC r2lab                   --        --        rayclaytonrudman@hotmail.com\n",
      "[20]  KO 2017-10-28T13:32:UTC r2lab                   --        --        hishamalzain21@gmail.com\n",
      "[21]  KO 2017-10-29T09:29:UTC r2lab                   --        --        hisham_alzain21@yahoo.com\n",
      "[22]  KO 2017-11-01T07:57:UTC unicamp                 --        --        architjain121@gmail.com\n",
      "[23]  KO 2017-11-04T09:10:UTC r2lab                   --        --        wuzhiguocarter@gmail.com\n",
      "[24]  KO 2017-11-24T22:37:UTC inria                   --        --        iranshahi@gmail.com\n",
      "[25]  KO 2017-12-13T11:00:UTC r2lab                   --        --        ayoub.bousselmi@orange.com\n",
      "[26]  KO 2017-12-14T09:15:UTC inria                   --        --        lichking@maildrop.cc\n"
     ]
    }
   ],
   "source": [
    "show_accounts(disabled_selected_accounts)"
   ]
  },
  {
   "cell_type": "markdown",
   "metadata": {},
   "source": [
    "*****\n",
    "*****\n",
    "*****"
   ]
  },
  {
   "cell_type": "markdown",
   "metadata": {},
   "source": [
    "# Specific to the stats done in March 2018\n",
    "\n",
    "## the ones who registered with the `r2lab` site\n",
    "\n",
    "**NOT** restricted to the selected period"
   ]
  },
  {
   "cell_type": "code",
   "execution_count": 54,
   "metadata": {},
   "outputs": [],
   "source": [
    "r2lab_selected_accounts = [ account for account in all_accounts if 'r2lab' in account['login_base']]"
   ]
  },
  {
   "cell_type": "code",
   "execution_count": 55,
   "metadata": {},
   "outputs": [
    {
     "name": "stdout",
     "output_type": "stream",
     "text": [
      "[01]  KO 2017-02-06T08:48:UTC r2lab                   --        --        raj85.vishwakarma@gmail.com\n",
      "[02]  KO 2017-03-09T09:12:UTC r2lab                   --        --        yassir.mr4@gmail.com\n",
      "[03]  KO 2017-08-26T17:09:UTC r2lab                   --        --        rayansalhab@hotmail.com\n",
      "[04]  KO 2017-09-04T11:53:UTC r2lab                   --        --        29776716@qq.com\n",
      "[05]  KO 2017-09-27T18:42:UTC r2lab                   --        --        yuchia.tseng@irt-systemx.fr\n",
      "[06]  KO 2017-10-01T00:36:UTC r2lab                   --        --        sample@email.tst\n",
      "[07]  KO 2017-10-03T03:37:UTC r2lab                   --        --        a5566740293@gmail.com\n",
      "[08]  KO 2017-10-17T21:09:UTC r2lab                   --        --        rayclaytonrudman@hotmail.com\n",
      "[09]  KO 2017-10-28T13:32:UTC r2lab                   --        --        hishamalzain21@gmail.com\n",
      "[10]  KO 2017-10-29T09:29:UTC r2lab                   --        --        hisham_alzain21@yahoo.com\n",
      "[11]  KO 2017-11-04T09:10:UTC r2lab                   --        --        wuzhiguocarter@gmail.com\n",
      "[12]  KO 2017-12-13T11:00:UTC r2lab                   --        --        ayoub.bousselmi@orange.com\n",
      "[13]  KO 2018-01-11T14:56:UTC r2lab                   --        --        ayoub.bousselmi@gmail.com\n",
      "[14]  KO 2018-03-07T12:15:UTC r2lab                   --        --        obensoudakorachi@gmail.com\n"
     ]
    }
   ],
   "source": [
    "show_accounts(r2lab_selected_accounts)"
   ]
  },
  {
   "cell_type": "markdown",
   "metadata": {},
   "source": [
    "## other disabled accounts"
   ]
  },
  {
   "cell_type": "code",
   "execution_count": 56,
   "metadata": {},
   "outputs": [],
   "source": [
    "other_disabled_accounts = [ account for account in all_accounts \n",
    "                           if not account['enabled'] and 'r2lab' not in account['login_base']]"
   ]
  },
  {
   "cell_type": "code",
   "execution_count": 57,
   "metadata": {},
   "outputs": [
    {
     "name": "stdout",
     "output_type": "stream",
     "text": [
      "[01]  KO 2016-12-16T13:27:UTC inria                   --        --        mario-antonio.zancanaro@inria.fr\n",
      "[02]  KO 2017-01-10T11:52:UTC inria                   --        --        mario.zancanaro@inria.fr\n",
      "[03]  KO 2017-05-05T12:27:UTC eurecomple              --        --        kharade.rohan@iitb.ac.in\n",
      "[04]  KO 2017-05-11T09:48:UTC eurecomple              --        --        info@try-rx.com\n",
      "[05]  KO 2017-05-19T20:18:UTC eurecomple              --        --        yoseph.maloche@studenti.unitn.it\n",
      "[06]  KO 2017-05-24T08:09:UTC inria                   --        --        qwerty1643@skku.edu\n",
      "[07]  KO 2017-06-27T09:29:UTC unicamp                 --        --        christophe.letoquin@orange.com\n",
      "[08]  KO 2017-07-03T06:52:UTC inria                   --        --        manipooja1990@gmail.com\n",
      "[09]  KO 2017-08-27T07:31:UTC inria                   --        --        xo79@qq.com\n",
      "[10]  KO 2017-09-12T14:57:UTC inria                   --        --        zgouaksvic@mailstome.today\n",
      "[11]  KO 2017-09-26T19:49:UTC eurecoms3               --        --        dzakwanfalih@hotmail.com\n",
      "[12]  KO 2017-10-01T01:00:UTC eurecomple              --        --        j1ltnl01@r2labapi.pl.sophia.inria.fr\n",
      "[13]  KO 2017-11-01T07:57:UTC unicamp                 --        --        architjain121@gmail.com\n",
      "[14]  KO 2017-11-24T22:37:UTC inria                   --        --        iranshahi@gmail.com\n",
      "[15]  KO 2017-12-14T09:15:UTC inria                   --        --        lichking@maildrop.cc\n",
      "[16]  KO 2018-01-22T21:40:UTC eurecomple              --        --        ali.raza@oulu.fi\n",
      "[17]  KO 2018-03-07T10:34:UTC inria                   --        --        gayudoss12@gmail.com\n"
     ]
    }
   ],
   "source": [
    "show_accounts(other_disabled_accounts)"
   ]
  }
 ],
 "metadata": {
  "kernelspec": {
   "display_name": "Python 3",
   "language": "python",
   "name": "python3"
  },
  "language_info": {
   "codemirror_mode": {
    "name": "ipython",
    "version": 3
   },
   "file_extension": ".py",
   "mimetype": "text/x-python",
   "name": "python",
   "nbconvert_exporter": "python",
   "pygments_lexer": "ipython3",
   "version": "3.6.4"
  }
 },
 "nbformat": 4,
 "nbformat_minor": 2
}
