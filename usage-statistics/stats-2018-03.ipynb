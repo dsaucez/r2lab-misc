{
 "cells": [
  {
   "cell_type": "markdown",
   "metadata": {},
   "source": [
    "# Stats in R2lab"
   ]
  },
  {
   "cell_type": "markdown",
   "metadata": {},
   "source": [
    "## Scope\n",
    "\n",
    "The working assumption here is that the interesting data is\n",
    "\n",
    "* the percentage of usage on a given period start .. end\n",
    "\n",
    "* the total number of relevant accounts and slices\n",
    "\n",
    "* also we might wish to pinpoint entries in the db that\n",
    "  correspond to some operation conditions. For example,\n",
    "  as of march 2018, we are interested in the disabled accounts\n",
    "  attached to the r2lab site, because we suspect some people in\n",
    "  this set have been trying to join but that was never acted upon..."
   ]
  },
  {
   "cell_type": "markdown",
   "metadata": {},
   "source": [
    "## Changelog\n",
    "\n",
    "* 2018 March; this a rebuild - see `stats-old.py` - of a previously rather ad hoc script. The present version will be OK for mostly 2017 and later, as we ignore the old data stored in json files.\n",
    "\n",
    "* 2017 November; at that time - again, see `stats-old.py` - we used 2 different sources of data, presumably because of the migration from the omf/rest API to myplc."
   ]
  },
  {
   "cell_type": "markdown",
   "metadata": {},
   "source": [
    "# Convenience"
   ]
  },
  {
   "cell_type": "markdown",
   "metadata": {},
   "source": [
    "This cell is only here so that any change in the code gets reloaded."
   ]
  },
  {
   "cell_type": "code",
   "execution_count": 1,
   "metadata": {},
   "outputs": [],
   "source": [
    "%load_ext autoreload\n",
    "%autoreload 2"
   ]
  },
  {
   "cell_type": "markdown",
   "metadata": {},
   "source": [
    "# Proxying / password to the API"
   ]
  },
  {
   "cell_type": "markdown",
   "metadata": {},
   "source": [
    "You need to know the password of the PLCAPI admin account on `r2labapi.inria.fr`"
   ]
  },
  {
   "cell_type": "code",
   "execution_count": 2,
   "metadata": {},
   "outputs": [
    {
     "name": "stdout",
     "output_type": "stream",
     "text": [
      "Enter password for root@r2lab.inria.fr : ········\n"
     ]
    }
   ],
   "source": [
    "import getpass\n",
    "account = \"root@r2lab.inria.fr\"\n",
    "password = getpass.getpass(f\"Enter password for {account} : \")"
   ]
  },
  {
   "cell_type": "code",
   "execution_count": 3,
   "metadata": {},
   "outputs": [],
   "source": [
    "# let's check that\n",
    "auth = {'AuthMethod' : 'password',\n",
    "        'Username' : account,\n",
    "        'AuthString' : password}\n",
    "\n",
    "import xmlrpc.client\n",
    "url = \"https://r2labapi.inria.fr:443/PLCAPI/\""
   ]
  },
  {
   "cell_type": "code",
   "execution_count": 4,
   "metadata": {},
   "outputs": [
    {
     "name": "stdout",
     "output_type": "stream",
     "text": [
      "1\n"
     ]
    }
   ],
   "source": [
    "# if everything is OK this should print '1'\n",
    "proxy = xmlrpc.client.ServerProxy(url)\n",
    "try:\n",
    "    print(proxy.AuthCheck(auth))\n",
    "except Exception as e:\n",
    "    print(f\"OOPS, something wrong with {type(e)} - {e}\")"
   ]
  },
  {
   "cell_type": "markdown",
   "metadata": {},
   "source": [
    "*********"
   ]
  },
  {
   "cell_type": "markdown",
   "metadata": {},
   "source": [
    "## Time formats"
   ]
  },
  {
   "cell_type": "code",
   "execution_count": 5,
   "metadata": {},
   "outputs": [],
   "source": [
    "from timeutils import parse_date, human_readable"
   ]
  },
  {
   "cell_type": "code",
   "execution_count": 6,
   "metadata": {
    "cell_style": "split"
   },
   "outputs": [
    {
     "name": "stdout",
     "output_type": "stream",
     "text": [
      "input_string 2017-01-01\n"
     ]
    },
    {
     "data": {
      "text/plain": [
       "1483225200.0"
      ]
     },
     "execution_count": 6,
     "metadata": {},
     "output_type": "execute_result"
    }
   ],
   "source": [
    "p1 = parse_date(\"2017-01-01\")\n",
    "p1"
   ]
  },
  {
   "cell_type": "code",
   "execution_count": 7,
   "metadata": {
    "cell_style": "split"
   },
   "outputs": [
    {
     "name": "stdout",
     "output_type": "stream",
     "text": [
      "input_string 2017-01-01\n"
     ]
    },
    {
     "data": {
      "text/plain": [
       "1483311600.0"
      ]
     },
     "execution_count": 7,
     "metadata": {},
     "output_type": "execute_result"
    }
   ],
   "source": [
    "p2 = parse_date(\"2017-01-01\", end=True)\n",
    "p2"
   ]
  },
  {
   "cell_type": "code",
   "execution_count": 8,
   "metadata": {
    "cell_style": "split"
   },
   "outputs": [
    {
     "data": {
      "text/plain": [
       "'2016-12-31T23:00:UTC'"
      ]
     },
     "execution_count": 8,
     "metadata": {},
     "output_type": "execute_result"
    }
   ],
   "source": [
    "human_readable(p1)"
   ]
  },
  {
   "cell_type": "code",
   "execution_count": 9,
   "metadata": {
    "cell_style": "split"
   },
   "outputs": [
    {
     "data": {
      "text/plain": [
       "'2017-01-01T23:00:UTC'"
      ]
     },
     "execution_count": 9,
     "metadata": {},
     "output_type": "execute_result"
    }
   ],
   "source": [
    "human_readable(p2)"
   ]
  },
  {
   "cell_type": "markdown",
   "metadata": {},
   "source": [
    "## Enter your period of interest"
   ]
  },
  {
   "cell_type": "markdown",
   "metadata": {
    "slideshow": {
     "slide_type": ""
    }
   },
   "source": [
    "Second argument to `input_date` is the default answer"
   ]
  },
  {
   "cell_type": "code",
   "execution_count": 10,
   "metadata": {},
   "outputs": [],
   "source": [
    "from timeutils import input_default"
   ]
  },
  {
   "cell_type": "code",
   "execution_count": 11,
   "metadata": {},
   "outputs": [
    {
     "name": "stdout",
     "output_type": "stream",
     "text": [
      "Enter starting day [2017-01-01] : \n"
     ]
    }
   ],
   "source": [
    "sfrom = input_default(\"Enter starting day\", \"2017-01-01\")"
   ]
  },
  {
   "cell_type": "code",
   "execution_count": 12,
   "metadata": {},
   "outputs": [
    {
     "name": "stdout",
     "output_type": "stream",
     "text": [
      "Enter ending day [2017-12-31] : \n"
     ]
    }
   ],
   "source": [
    "suntil = input_default(\"Enter ending day\", \"2017-12-31\")"
   ]
  },
  {
   "cell_type": "code",
   "execution_count": 13,
   "metadata": {},
   "outputs": [
    {
     "name": "stdout",
     "output_type": "stream",
     "text": [
      "input_string 2017-01-01\n",
      "input_string 2017-12-31\n",
      "Period of interest: 2016-12-31T23:00:UTC - 2017-12-31T23:00:UTC\n",
      "Total duration = 365.0 days\n"
     ]
    }
   ],
   "source": [
    "ifrom, iuntil = parse_date(sfrom), parse_date(suntil, end=True)\n",
    "print(f\"Period of interest: {human_readable(ifrom)} - {human_readable(iuntil)}\")\n",
    "print(f\"Total duration = {(iuntil-ifrom)//(24*3600)} days\")"
   ]
  },
  {
   "cell_type": "markdown",
   "metadata": {},
   "source": [
    "# Testbed busy ratio"
   ]
  },
  {
   "cell_type": "markdown",
   "metadata": {},
   "source": [
    "## Fetching leases"
   ]
  },
  {
   "cell_type": "code",
   "execution_count": 14,
   "metadata": {},
   "outputs": [
    {
     "name": "stdout",
     "output_type": "stream",
     "text": [
      "there have been 616 reservations made during the period\n"
     ]
    }
   ],
   "source": [
    "# fetch leases for that period\n",
    "selected_leases = proxy.GetLeases(\n",
    "    auth,\n",
    "    {'>t_from' : ifrom, '<t_from' : iuntil}\n",
    ")\n",
    "print(f\"there have been {len(selected_leases)} reservations made during the period\")"
   ]
  },
  {
   "cell_type": "markdown",
   "metadata": {},
   "source": [
    "### Sorting in ascending order"
   ]
  },
  {
   "cell_type": "code",
   "execution_count": 15,
   "metadata": {},
   "outputs": [],
   "source": [
    "selected_leases.sort(key=lambda lease: lease['t_from'])"
   ]
  },
  {
   "cell_type": "markdown",
   "metadata": {},
   "source": [
    "### A glimpse"
   ]
  },
  {
   "cell_type": "code",
   "execution_count": 16,
   "metadata": {},
   "outputs": [],
   "source": [
    "def oneliner(lease):\n",
    "    return f\"{lease['name']:25s} {human_readable(lease['t_from'])} -> {human_readable(lease['t_until'])}\""
   ]
  },
  {
   "cell_type": "code",
   "execution_count": 17,
   "metadata": {},
   "outputs": [],
   "source": [
    "def glimpse(leases, size=5):\n",
    "    for lease in leases[:size]:\n",
    "        print(oneliner(lease))\n",
    "    print(\"...\")\n",
    "    for lease in leases[-size:]:\n",
    "        print(oneliner(lease))        "
   ]
  },
  {
   "cell_type": "code",
   "execution_count": 18,
   "metadata": {
    "cell_style": "center"
   },
   "outputs": [
    {
     "name": "stdout",
     "output_type": "stream",
     "text": [
      "inria_r2lab.nightly       2017-01-06T15:00:UTC -> 2017-01-06T16:00:UTC\n",
      "inria_naoufal.mesh        2017-01-09T15:30:UTC -> 2017-01-09T16:00:UTC\n",
      "inria_r2lab.nightly       2017-01-09T16:00:UTC -> 2017-01-09T17:00:UTC\n",
      "inria_r2lab.nightly       2017-01-11T02:00:UTC -> 2017-01-11T03:00:UTC\n",
      "inria_r2lab.nightly       2017-01-12T02:00:UTC -> 2017-01-12T03:00:UTC\n",
      "...\n",
      "inria_r2lab.nightly       2017-12-27T02:00:UTC -> 2017-12-27T03:00:UTC\n",
      "inria_pfe                 2017-12-27T14:40:UTC -> 2017-12-27T17:00:UTC\n",
      "inria_pfe                 2017-12-27T23:00:UTC -> 2017-12-28T03:00:UTC\n",
      "inria_cefore              2017-12-28T07:10:UTC -> 2017-12-28T08:00:UTC\n",
      "inria_r2lab.nightly       2017-12-31T02:00:UTC -> 2017-12-31T03:00:UTC\n"
     ]
    }
   ],
   "source": [
    "glimpse(selected_leases)"
   ]
  },
  {
   "cell_type": "markdown",
   "metadata": {},
   "source": [
    "## Usage ratio"
   ]
  },
  {
   "cell_type": "markdown",
   "metadata": {},
   "source": [
    "##### raw ratio *vs* opening hours\n",
    "\n",
    "The raw ratio is obtained by comparing the amount of time reserved with the total amount of time available.\n",
    "\n",
    "Assuming that opening hours would be mon-fri from 09:00 to 19:00"
   ]
  },
  {
   "cell_type": "code",
   "execution_count": 19,
   "metadata": {},
   "outputs": [
    {
     "name": "stdout",
     "output_type": "stream",
     "text": [
      "Opening hours are 29.76% of total hours\n"
     ]
    }
   ],
   "source": [
    "open_correction = (5 * 10) / (7 * 24)\n",
    "print(f\"Opening hours are {open_correction:.2%} of total hours\")"
   ]
  },
  {
   "cell_type": "markdown",
   "metadata": {},
   "source": [
    "##### user *vs* admin\n",
    "\n",
    "We try to classify the various slices in 2 families whether they are for management/operations purposes, or used for actual experimentation."
   ]
  },
  {
   "cell_type": "code",
   "execution_count": 20,
   "metadata": {},
   "outputs": [],
   "source": [
    "total_duration = iuntil - ifrom"
   ]
  },
  {
   "cell_type": "code",
   "execution_count": 21,
   "metadata": {},
   "outputs": [],
   "source": [
    "def show_usage_ratio(leases, total_duration, message):\n",
    "\n",
    "    def duration(lease):\n",
    "        return lease['t_until'] - lease['t_from']\n",
    "\n",
    "    reserved_duration = sum(duration(lease) for lease in leases)\n",
    "    print(f\"Total time reserved: {reserved_duration} / {total_duration} s\")\n",
    "    print(f\"                i.e: {reserved_duration/3600:.2f} / {total_duration/3600:.2f}    hours\")\n",
    "    print(f\"                i.e: {reserved_duration/(24*3600):.2f} / {total_duration/(24*3600):.2f}       days\")\n",
    "    \n",
    "    raw_ratio = reserved_duration / total_duration\n",
    "    print(f\"{message}: raw_ratio is {raw_ratio:.2%}\")\n",
    "    \n",
    "    open_ratio = raw_ratio / open_correction\n",
    "    print(f\"{message}: open_ratio is {open_ratio:.2%}\")"
   ]
  },
  {
   "cell_type": "code",
   "execution_count": 22,
   "metadata": {
    "cell_style": "center"
   },
   "outputs": [
    {
     "name": "stdout",
     "output_type": "stream",
     "text": [
      "Total time reserved: 4041600 / 31536000.0 s\n",
      "                i.e: 1122.67 / 8760.00    hours\n",
      "                i.e: 46.78 / 365.00       days\n",
      "ALL LEASES: raw_ratio is 12.82%\n",
      "ALL LEASES: open_ratio is 43.06%\n"
     ]
    }
   ],
   "source": [
    "show_usage_ratio(selected_leases, total_duration, \"ALL LEASES\")"
   ]
  },
  {
   "cell_type": "markdown",
   "metadata": {},
   "source": [
    "### Usage ratio - filtered"
   ]
  },
  {
   "cell_type": "markdown",
   "metadata": {},
   "source": [
    "We discard slices whose name contains any of the following"
   ]
  },
  {
   "cell_type": "code",
   "execution_count": 23,
   "metadata": {},
   "outputs": [],
   "source": [
    "admin_slices = ['auto_', 'nightly', 'maintenance', 'tutorial']"
   ]
  },
  {
   "cell_type": "code",
   "execution_count": 24,
   "metadata": {},
   "outputs": [],
   "source": [
    "def relevant(lease):\n",
    "    return not any(admin in lease['name'] for admin in admin_slices)\n",
    "\n",
    "filtered_leases = [lease for lease in selected_leases if relevant(lease)]"
   ]
  },
  {
   "cell_type": "code",
   "execution_count": 25,
   "metadata": {},
   "outputs": [
    {
     "name": "stdout",
     "output_type": "stream",
     "text": [
      "Total time reserved: 3663000 / 31536000.0 s\n",
      "                i.e: 1017.50 / 8760.00    hours\n",
      "                i.e: 42.40 / 365.00       days\n",
      "FILTERED LEASES: raw_ratio is 11.62%\n",
      "FILTERED LEASES: open_ratio is 39.03%\n"
     ]
    }
   ],
   "source": [
    "show_usage_ratio(filtered_leases, total_duration, \"FILTERED LEASES\")"
   ]
  },
  {
   "cell_type": "markdown",
   "metadata": {},
   "source": [
    "## User accounts created"
   ]
  },
  {
   "cell_type": "code",
   "execution_count": 26,
   "metadata": {},
   "outputs": [
    {
     "name": "stdout",
     "output_type": "stream",
     "text": [
      "We have 82 accounts\n"
     ]
    }
   ],
   "source": [
    "all_accounts = proxy.GetPersons(auth)\n",
    "\n",
    "print(f\"We have {len(all_accounts)} accounts\")"
   ]
  },
  {
   "cell_type": "code",
   "execution_count": 27,
   "metadata": {},
   "outputs": [],
   "source": [
    "#all_accounts[0]"
   ]
  },
  {
   "cell_type": "markdown",
   "metadata": {},
   "source": [
    "This will add a `login_base` field to each user account, to identify the attached institution:"
   ]
  },
  {
   "cell_type": "code",
   "execution_count": 28,
   "metadata": {},
   "outputs": [],
   "source": [
    "all_sites = proxy.GetSites(auth)\n",
    "site_hash = { site['site_id'] : site for site in all_sites}\n",
    "for account in all_accounts:\n",
    "    site_ids = account['site_ids']\n",
    "    if not site_ids:\n",
    "        account['login_base'] = '(none)'\n",
    "    if len(site_ids) == 1:\n",
    "        account['login_base'] = site_hash[account['site_ids'][0]]['login_base']\n",
    "    else:\n",
    "        account['login_base'] = '(' + \",\".join(site_hash[site_id]['login_base'] for site_id in site_ids) + ')'"
   ]
  },
  {
   "cell_type": "markdown",
   "metadata": {},
   "source": [
    "### detailed list"
   ]
  },
  {
   "cell_type": "code",
   "execution_count": 29,
   "metadata": {},
   "outputs": [],
   "source": [
    "def show_accounts(accounts):\n",
    "    accounts.sort(key = lambda person: person['date_created'])\n",
    "    for i, account in enumerate(accounts, 1):\n",
    "        print(f\"[{i:02d}] \"\n",
    "              f\" {'OK' if account['enabled'] else 'KO'}\"\n",
    "              f\" {human_readable(account['date_created'])}\"\n",
    "              f\" {account['login_base']:24s}\"\n",
    "              f\" {account['email']}\"\n",
    "             )"
   ]
  },
  {
   "cell_type": "markdown",
   "metadata": {},
   "source": [
    "#### all accounts"
   ]
  },
  {
   "cell_type": "code",
   "execution_count": 30,
   "metadata": {},
   "outputs": [
    {
     "name": "stdout",
     "output_type": "stream",
     "text": [
      "[01]  OK 2016-12-16T13:27:UTC ()                       maint@localhost.localdomain\n",
      "[02]  OK 2016-12-16T13:27:UTC auto                     root@r2lab.inria.fr\n",
      "[03]  OK 2016-12-16T13:27:UTC inria                    anas.elankouri@gmail.com\n",
      "[04]  OK 2016-12-16T13:27:UTC unicamp                  ramonreisfontes@gmail.com\n",
      "[05]  OK 2016-12-16T13:27:UTC eurecomple               navid.nikaein@eurecom.fr\n",
      "[06]  OK 2016-12-16T13:27:UTC upmc                     loic.baron@lip6.fr\n",
      "[07]  OK 2016-12-16T13:27:UTC eurecomple               florian.kaltenberger@eurecom.fr\n",
      "[08]  KO 2016-12-16T13:27:UTC inria                    mario-antonio.zancanaro@inria.fr\n",
      "[09]  OK 2016-12-16T13:27:UTC inria                    mohamed-naoufal.mahfoudi@inria.fr\n",
      "[10]  OK 2016-12-16T13:27:UTC inria                    frederic.saint-marcel@inria.fr\n",
      "[11]  OK 2016-12-16T13:27:UTC inria                    thierry.parmentelat@inria.fr\n",
      "[12]  OK 2016-12-16T13:27:UTC inria                    farzaneh.pazkad@inria.fr\n",
      "[13]  OK 2016-12-16T13:27:UTC inria                    eric.fleury@inria.fr\n",
      "[14]  OK 2016-12-16T13:27:UTC inria                    thierry.turletti@inria.fr\n",
      "[15]  OK 2016-12-16T13:27:UTC inria                    walid.dabbous@inria.fr\n",
      "[16]  OK 2016-12-16T13:27:UTC upmc                     radomir.klacza@lip6.fr\n",
      "[17]  KO 2017-01-10T11:52:UTC inria                    mario.zancanaro@inria.fr\n",
      "[18]  OK 2017-01-11T11:37:UTC inria                    fabrice.valois@insa-lyon.fr\n",
      "[19]  OK 2017-01-11T11:37:UTC inria                    jad.oueis@insa-lyon.fr\n",
      "[20]  OK 2017-01-11T11:37:UTC inria                    razvan.stanica@inria.fr\n",
      "[21]  OK 2017-01-24T16:22:UTC inria                    arnaud.legout@inria.fr\n",
      "[22]  KO 2017-02-06T08:48:UTC r2lab                    raj85.vishwakarma@gmail.com\n",
      "[23]  OK 2017-02-15T18:19:UTC inria                    mondi.ravi@inria.fr\n",
      "[24]  OK 2017-02-15T18:25:UTC inria                    mondi.ravi@gmail.com\n",
      "[25]  OK 2017-03-04T06:46:UTC inria                    kishoregolla9@gmail.com\n",
      "[26]  KO 2017-03-09T09:12:UTC r2lab                    yassir.mr4@gmail.com\n",
      "[27]  OK 2017-03-09T09:57:UTC inria                    yassir.mr1@gmail.com\n",
      "[28]  OK 2017-03-09T19:18:UTC inria                    sebastian.fehlandt@inria.cl\n",
      "[29]  OK 2017-04-06T19:36:UTC inria                    victor.codocedo@inria.cl\n",
      "[30]  OK 2017-04-11T16:35:UTC inria                    osama.arouk@inria.fr\n",
      "[31]  KO 2017-05-05T12:27:UTC eurecomple               kharade.rohan@iitb.ac.in\n",
      "[32]  OK 2017-05-07T13:16:UTC inria                    cappuzzo@eurecom.fr\n",
      "[33]  KO 2017-05-11T09:48:UTC eurecomple               info@try-rx.com\n",
      "[34]  OK 2017-05-19T10:29:UTC (eurecomple,eurecoms3)   hayes@eurecom.fr\n",
      "[35]  OK 2017-05-19T11:20:UTC eurecoms3                aurelien.francillon@eurecom.fr\n",
      "[36]  OK 2017-05-19T11:29:UTC inria                    t.c.hayes0@gmail.com\n",
      "[37]  KO 2017-05-19T20:18:UTC eurecomple               yoseph.maloche@studenti.unitn.it\n",
      "[38]  KO 2017-05-24T08:09:UTC inria                    qwerty1643@skku.edu\n",
      "[39]  KO 2017-06-27T09:29:UTC unicamp                  christophe.letoquin@orange.com\n",
      "[40]  KO 2017-07-03T06:52:UTC inria                    manipooja1990@gmail.com\n",
      "[41]  OK 2017-07-03T07:43:UTC inria                    manickavasagam.b@ktr.srmuniv.ac.in\n",
      "[42]  OK 2017-08-25T18:45:UTC inria                    urauf@uncc.edu\n",
      "[43]  KO 2017-08-26T17:09:UTC r2lab                    rayansalhab@hotmail.com\n",
      "[44]  KO 2017-08-27T07:31:UTC inria                    xo79@qq.com\n",
      "[45]  KO 2017-09-04T11:53:UTC r2lab                    29776716@qq.com\n",
      "[46]  KO 2017-09-12T14:57:UTC inria                    zgouaksvic@mailstome.today\n",
      "[47]  OK 2017-09-14T10:39:UTC inria                    muhammad-jawad.khokhar@inria.fr\n",
      "[48]  OK 2017-09-20T15:25:UTC eurecoms3                sebastian.poeplau@eurecom.fr\n",
      "[49]  KO 2017-09-26T19:49:UTC eurecoms3                dzakwanfalih@hotmail.com\n",
      "[50]  KO 2017-09-27T18:42:UTC r2lab                    yuchia.tseng@irt-systemx.fr\n",
      "[51]  KO 2017-10-01T00:36:UTC r2lab                    sample@email.tst\n",
      "[52]  KO 2017-10-01T01:00:UTC eurecomple               j1ltnl01@r2labapi.pl.sophia.inria.fr\n",
      "[53]  KO 2017-10-03T03:37:UTC r2lab                    a5566740293@gmail.com\n",
      "[54]  OK 2017-10-03T21:29:UTC inria                    mirazabal@iquadrat.com\n",
      "[55]  OK 2017-10-16T21:38:UTC inria                    kazi.puc@gmail.com\n",
      "[56]  KO 2017-10-17T21:09:UTC r2lab                    rayclaytonrudman@hotmail.com\n",
      "[57]  OK 2017-10-19T12:12:UTC inria                    salma.aitlhaj@gmail.com\n",
      "[58]  KO 2017-10-28T13:32:UTC r2lab                    hishamalzain21@gmail.com\n",
      "[59]  KO 2017-10-29T09:29:UTC r2lab                    hisham_alzain21@yahoo.com\n",
      "[60]  KO 2017-11-01T07:57:UTC unicamp                  architjain121@gmail.com\n",
      "[61]  KO 2017-11-04T09:10:UTC r2lab                    wuzhiguocarter@gmail.com\n",
      "[62]  OK 2017-11-22T15:40:UTC inria                    gayatri.sivadoss@inria.fr\n",
      "[63]  OK 2017-11-23T09:25:UTC inria                    clat94@gmail.com\n",
      "[64]  KO 2017-11-24T22:37:UTC inria                    iranshahi@gmail.com\n",
      "[65]  OK 2017-12-04T11:34:UTC inria                    hardik.soni@inria.fr\n",
      "[66]  OK 2017-12-05T06:21:UTC inria                    asaeda@ieee.org\n",
      "[67]  OK 2017-12-05T07:30:UTC inria                    a-nagata@intelligent-design.co.jp\n",
      "[68]  OK 2017-12-05T07:30:UTC inria                    y_yano@intelligent-design.co.jp\n",
      "[69]  OK 2017-12-05T07:31:UTC inria                    kazuhisa@sfc.wide.ad.jp\n",
      "[70]  OK 2017-12-13T10:30:UTC inria                    sihem.cherrared@orange.com\n",
      "[71]  KO 2017-12-13T11:00:UTC r2lab                    ayoub.bousselmi@orange.com\n",
      "[72]  OK 2017-12-13T11:04:UTC inria                    ilhem.fajjari@orange.com\n",
      "[73]  KO 2017-12-14T09:15:UTC inria                    lichking@maildrop.cc\n",
      "[74]  OK 2017-12-18T11:23:UTC inria                    marc.vesin@inria.fr\n",
      "[75]  KO 2018-01-11T14:56:UTC r2lab                    ayoub.bousselmi@gmail.com\n",
      "[76]  KO 2018-01-22T21:40:UTC eurecomple               ali.raza@oulu.fi\n",
      "[77]  OK 2018-02-13T12:07:UTC inria                    yonathan.bleyfuesz@gmail.com\n",
      "[78]  OK 2018-02-16T11:07:UTC inria                    nallagattla@gmail.com\n",
      "[79]  KO 2018-03-07T10:34:UTC inria                    gayudoss12@gmail.com\n",
      "[80]  OK 2018-03-07T10:45:UTC inria                    othmane.bensoudak@gmail.com\n",
      "[81]  KO 2018-03-07T12:15:UTC r2lab                    obensoudakorachi@gmail.com\n",
      "[82]  OK 2018-03-07T13:36:UTC inria                    thierry.parmentelat@free.fr\n"
     ]
    }
   ],
   "source": [
    "show_accounts(all_accounts)"
   ]
  },
  {
   "cell_type": "markdown",
   "metadata": {},
   "source": [
    "### narrowing on the selected period"
   ]
  },
  {
   "cell_type": "code",
   "execution_count": 31,
   "metadata": {},
   "outputs": [
    {
     "name": "stdout",
     "output_type": "stream",
     "text": [
      "[01]  KO 2017-01-10T11:52:UTC inria                    mario.zancanaro@inria.fr\n",
      "[02]  OK 2017-01-11T11:37:UTC inria                    fabrice.valois@insa-lyon.fr\n",
      "[03]  OK 2017-01-11T11:37:UTC inria                    jad.oueis@insa-lyon.fr\n",
      "[04]  OK 2017-01-11T11:37:UTC inria                    razvan.stanica@inria.fr\n",
      "[05]  OK 2017-01-24T16:22:UTC inria                    arnaud.legout@inria.fr\n",
      "[06]  KO 2017-02-06T08:48:UTC r2lab                    raj85.vishwakarma@gmail.com\n",
      "[07]  OK 2017-02-15T18:19:UTC inria                    mondi.ravi@inria.fr\n",
      "[08]  OK 2017-02-15T18:25:UTC inria                    mondi.ravi@gmail.com\n",
      "[09]  OK 2017-03-04T06:46:UTC inria                    kishoregolla9@gmail.com\n",
      "[10]  KO 2017-03-09T09:12:UTC r2lab                    yassir.mr4@gmail.com\n",
      "[11]  OK 2017-03-09T09:57:UTC inria                    yassir.mr1@gmail.com\n",
      "[12]  OK 2017-03-09T19:18:UTC inria                    sebastian.fehlandt@inria.cl\n",
      "[13]  OK 2017-04-06T19:36:UTC inria                    victor.codocedo@inria.cl\n",
      "[14]  OK 2017-04-11T16:35:UTC inria                    osama.arouk@inria.fr\n",
      "[15]  KO 2017-05-05T12:27:UTC eurecomple               kharade.rohan@iitb.ac.in\n",
      "[16]  OK 2017-05-07T13:16:UTC inria                    cappuzzo@eurecom.fr\n",
      "[17]  KO 2017-05-11T09:48:UTC eurecomple               info@try-rx.com\n",
      "[18]  OK 2017-05-19T10:29:UTC (eurecomple,eurecoms3)   hayes@eurecom.fr\n",
      "[19]  OK 2017-05-19T11:20:UTC eurecoms3                aurelien.francillon@eurecom.fr\n",
      "[20]  OK 2017-05-19T11:29:UTC inria                    t.c.hayes0@gmail.com\n",
      "[21]  KO 2017-05-19T20:18:UTC eurecomple               yoseph.maloche@studenti.unitn.it\n",
      "[22]  KO 2017-05-24T08:09:UTC inria                    qwerty1643@skku.edu\n",
      "[23]  KO 2017-06-27T09:29:UTC unicamp                  christophe.letoquin@orange.com\n",
      "[24]  KO 2017-07-03T06:52:UTC inria                    manipooja1990@gmail.com\n",
      "[25]  OK 2017-07-03T07:43:UTC inria                    manickavasagam.b@ktr.srmuniv.ac.in\n",
      "[26]  OK 2017-08-25T18:45:UTC inria                    urauf@uncc.edu\n",
      "[27]  KO 2017-08-26T17:09:UTC r2lab                    rayansalhab@hotmail.com\n",
      "[28]  KO 2017-08-27T07:31:UTC inria                    xo79@qq.com\n",
      "[29]  KO 2017-09-04T11:53:UTC r2lab                    29776716@qq.com\n",
      "[30]  KO 2017-09-12T14:57:UTC inria                    zgouaksvic@mailstome.today\n",
      "[31]  OK 2017-09-14T10:39:UTC inria                    muhammad-jawad.khokhar@inria.fr\n",
      "[32]  OK 2017-09-20T15:25:UTC eurecoms3                sebastian.poeplau@eurecom.fr\n",
      "[33]  KO 2017-09-26T19:49:UTC eurecoms3                dzakwanfalih@hotmail.com\n",
      "[34]  KO 2017-09-27T18:42:UTC r2lab                    yuchia.tseng@irt-systemx.fr\n",
      "[35]  KO 2017-10-01T00:36:UTC r2lab                    sample@email.tst\n",
      "[36]  KO 2017-10-01T01:00:UTC eurecomple               j1ltnl01@r2labapi.pl.sophia.inria.fr\n",
      "[37]  KO 2017-10-03T03:37:UTC r2lab                    a5566740293@gmail.com\n",
      "[38]  OK 2017-10-03T21:29:UTC inria                    mirazabal@iquadrat.com\n",
      "[39]  OK 2017-10-16T21:38:UTC inria                    kazi.puc@gmail.com\n",
      "[40]  KO 2017-10-17T21:09:UTC r2lab                    rayclaytonrudman@hotmail.com\n",
      "[41]  OK 2017-10-19T12:12:UTC inria                    salma.aitlhaj@gmail.com\n",
      "[42]  KO 2017-10-28T13:32:UTC r2lab                    hishamalzain21@gmail.com\n",
      "[43]  KO 2017-10-29T09:29:UTC r2lab                    hisham_alzain21@yahoo.com\n",
      "[44]  KO 2017-11-01T07:57:UTC unicamp                  architjain121@gmail.com\n",
      "[45]  KO 2017-11-04T09:10:UTC r2lab                    wuzhiguocarter@gmail.com\n",
      "[46]  OK 2017-11-22T15:40:UTC inria                    gayatri.sivadoss@inria.fr\n",
      "[47]  OK 2017-11-23T09:25:UTC inria                    clat94@gmail.com\n",
      "[48]  KO 2017-11-24T22:37:UTC inria                    iranshahi@gmail.com\n",
      "[49]  OK 2017-12-04T11:34:UTC inria                    hardik.soni@inria.fr\n",
      "[50]  OK 2017-12-05T06:21:UTC inria                    asaeda@ieee.org\n",
      "[51]  OK 2017-12-05T07:30:UTC inria                    a-nagata@intelligent-design.co.jp\n",
      "[52]  OK 2017-12-05T07:30:UTC inria                    y_yano@intelligent-design.co.jp\n",
      "[53]  OK 2017-12-05T07:31:UTC inria                    kazuhisa@sfc.wide.ad.jp\n",
      "[54]  OK 2017-12-13T10:30:UTC inria                    sihem.cherrared@orange.com\n",
      "[55]  KO 2017-12-13T11:00:UTC r2lab                    ayoub.bousselmi@orange.com\n",
      "[56]  OK 2017-12-13T11:04:UTC inria                    ilhem.fajjari@orange.com\n",
      "[57]  KO 2017-12-14T09:15:UTC inria                    lichking@maildrop.cc\n",
      "[58]  OK 2017-12-18T11:23:UTC inria                    marc.vesin@inria.fr\n"
     ]
    }
   ],
   "source": [
    "selected_accounts = [\n",
    "    account for account in all_accounts \n",
    "    if account['date_created'] >= ifrom and\n",
    "       account['date_created'] <= iuntil\n",
    "]\n",
    "\n",
    "show_accounts(selected_accounts)"
   ]
  },
  {
   "cell_type": "code",
   "execution_count": 32,
   "metadata": {},
   "outputs": [
    {
     "name": "stdout",
     "output_type": "stream",
     "text": [
      "New accounts in the selected period = 32\n"
     ]
    }
   ],
   "source": [
    "# show number of enabled accounts in this list\n",
    "new_accounts_in_selected_period = [\n",
    "    account for account in selected_accounts if account['enabled']\n",
    "]\n",
    "print(f\"New accounts in the selected period = {len(new_accounts_in_selected_period)}\")"
   ]
  },
  {
   "cell_type": "markdown",
   "metadata": {},
   "source": [
    "### validated *vs* non-validated accounts\n",
    "\n",
    "Still on the selected period, show the ones that were enabled or not"
   ]
  },
  {
   "cell_type": "code",
   "execution_count": 33,
   "metadata": {},
   "outputs": [],
   "source": [
    "enabled_selected_accounts = [ account for account in selected_accounts if account['enabled']]\n",
    "disabled_selected_accounts = [ account for account in selected_accounts if not account['enabled']]"
   ]
  },
  {
   "cell_type": "code",
   "execution_count": 34,
   "metadata": {},
   "outputs": [
    {
     "name": "stdout",
     "output_type": "stream",
     "text": [
      "[01]  OK 2017-01-11T11:37:UTC inria                    fabrice.valois@insa-lyon.fr\n",
      "[02]  OK 2017-01-11T11:37:UTC inria                    jad.oueis@insa-lyon.fr\n",
      "[03]  OK 2017-01-11T11:37:UTC inria                    razvan.stanica@inria.fr\n",
      "[04]  OK 2017-01-24T16:22:UTC inria                    arnaud.legout@inria.fr\n",
      "[05]  OK 2017-02-15T18:19:UTC inria                    mondi.ravi@inria.fr\n",
      "[06]  OK 2017-02-15T18:25:UTC inria                    mondi.ravi@gmail.com\n",
      "[07]  OK 2017-03-04T06:46:UTC inria                    kishoregolla9@gmail.com\n",
      "[08]  OK 2017-03-09T09:57:UTC inria                    yassir.mr1@gmail.com\n",
      "[09]  OK 2017-03-09T19:18:UTC inria                    sebastian.fehlandt@inria.cl\n",
      "[10]  OK 2017-04-06T19:36:UTC inria                    victor.codocedo@inria.cl\n",
      "[11]  OK 2017-04-11T16:35:UTC inria                    osama.arouk@inria.fr\n",
      "[12]  OK 2017-05-07T13:16:UTC inria                    cappuzzo@eurecom.fr\n",
      "[13]  OK 2017-05-19T10:29:UTC (eurecomple,eurecoms3)   hayes@eurecom.fr\n",
      "[14]  OK 2017-05-19T11:20:UTC eurecoms3                aurelien.francillon@eurecom.fr\n",
      "[15]  OK 2017-05-19T11:29:UTC inria                    t.c.hayes0@gmail.com\n",
      "[16]  OK 2017-07-03T07:43:UTC inria                    manickavasagam.b@ktr.srmuniv.ac.in\n",
      "[17]  OK 2017-08-25T18:45:UTC inria                    urauf@uncc.edu\n",
      "[18]  OK 2017-09-14T10:39:UTC inria                    muhammad-jawad.khokhar@inria.fr\n",
      "[19]  OK 2017-09-20T15:25:UTC eurecoms3                sebastian.poeplau@eurecom.fr\n",
      "[20]  OK 2017-10-03T21:29:UTC inria                    mirazabal@iquadrat.com\n",
      "[21]  OK 2017-10-16T21:38:UTC inria                    kazi.puc@gmail.com\n",
      "[22]  OK 2017-10-19T12:12:UTC inria                    salma.aitlhaj@gmail.com\n",
      "[23]  OK 2017-11-22T15:40:UTC inria                    gayatri.sivadoss@inria.fr\n",
      "[24]  OK 2017-11-23T09:25:UTC inria                    clat94@gmail.com\n",
      "[25]  OK 2017-12-04T11:34:UTC inria                    hardik.soni@inria.fr\n",
      "[26]  OK 2017-12-05T06:21:UTC inria                    asaeda@ieee.org\n",
      "[27]  OK 2017-12-05T07:30:UTC inria                    a-nagata@intelligent-design.co.jp\n",
      "[28]  OK 2017-12-05T07:30:UTC inria                    y_yano@intelligent-design.co.jp\n",
      "[29]  OK 2017-12-05T07:31:UTC inria                    kazuhisa@sfc.wide.ad.jp\n",
      "[30]  OK 2017-12-13T10:30:UTC inria                    sihem.cherrared@orange.com\n",
      "[31]  OK 2017-12-13T11:04:UTC inria                    ilhem.fajjari@orange.com\n",
      "[32]  OK 2017-12-18T11:23:UTC inria                    marc.vesin@inria.fr\n"
     ]
    }
   ],
   "source": [
    "show_accounts(enabled_selected_accounts)"
   ]
  },
  {
   "cell_type": "code",
   "execution_count": 35,
   "metadata": {},
   "outputs": [
    {
     "name": "stdout",
     "output_type": "stream",
     "text": [
      "[01]  KO 2017-01-10T11:52:UTC inria                    mario.zancanaro@inria.fr\n",
      "[02]  KO 2017-02-06T08:48:UTC r2lab                    raj85.vishwakarma@gmail.com\n",
      "[03]  KO 2017-03-09T09:12:UTC r2lab                    yassir.mr4@gmail.com\n",
      "[04]  KO 2017-05-05T12:27:UTC eurecomple               kharade.rohan@iitb.ac.in\n",
      "[05]  KO 2017-05-11T09:48:UTC eurecomple               info@try-rx.com\n",
      "[06]  KO 2017-05-19T20:18:UTC eurecomple               yoseph.maloche@studenti.unitn.it\n",
      "[07]  KO 2017-05-24T08:09:UTC inria                    qwerty1643@skku.edu\n",
      "[08]  KO 2017-06-27T09:29:UTC unicamp                  christophe.letoquin@orange.com\n",
      "[09]  KO 2017-07-03T06:52:UTC inria                    manipooja1990@gmail.com\n",
      "[10]  KO 2017-08-26T17:09:UTC r2lab                    rayansalhab@hotmail.com\n",
      "[11]  KO 2017-08-27T07:31:UTC inria                    xo79@qq.com\n",
      "[12]  KO 2017-09-04T11:53:UTC r2lab                    29776716@qq.com\n",
      "[13]  KO 2017-09-12T14:57:UTC inria                    zgouaksvic@mailstome.today\n",
      "[14]  KO 2017-09-26T19:49:UTC eurecoms3                dzakwanfalih@hotmail.com\n",
      "[15]  KO 2017-09-27T18:42:UTC r2lab                    yuchia.tseng@irt-systemx.fr\n",
      "[16]  KO 2017-10-01T00:36:UTC r2lab                    sample@email.tst\n",
      "[17]  KO 2017-10-01T01:00:UTC eurecomple               j1ltnl01@r2labapi.pl.sophia.inria.fr\n",
      "[18]  KO 2017-10-03T03:37:UTC r2lab                    a5566740293@gmail.com\n",
      "[19]  KO 2017-10-17T21:09:UTC r2lab                    rayclaytonrudman@hotmail.com\n",
      "[20]  KO 2017-10-28T13:32:UTC r2lab                    hishamalzain21@gmail.com\n",
      "[21]  KO 2017-10-29T09:29:UTC r2lab                    hisham_alzain21@yahoo.com\n",
      "[22]  KO 2017-11-01T07:57:UTC unicamp                  architjain121@gmail.com\n",
      "[23]  KO 2017-11-04T09:10:UTC r2lab                    wuzhiguocarter@gmail.com\n",
      "[24]  KO 2017-11-24T22:37:UTC inria                    iranshahi@gmail.com\n",
      "[25]  KO 2017-12-13T11:00:UTC r2lab                    ayoub.bousselmi@orange.com\n",
      "[26]  KO 2017-12-14T09:15:UTC inria                    lichking@maildrop.cc\n"
     ]
    }
   ],
   "source": [
    "show_accounts(disabled_selected_accounts)"
   ]
  },
  {
   "cell_type": "markdown",
   "metadata": {},
   "source": [
    "# Specific to 2018\n",
    "\n",
    "## the ones who registered with the `r2lab` site\n",
    "\n",
    "**NOT** restricted to the selected period"
   ]
  },
  {
   "cell_type": "code",
   "execution_count": 36,
   "metadata": {},
   "outputs": [],
   "source": [
    "r2lab_selected_accounts = [ account for account in all_accounts if 'r2lab' in account['login_base']]"
   ]
  },
  {
   "cell_type": "code",
   "execution_count": 37,
   "metadata": {},
   "outputs": [
    {
     "name": "stdout",
     "output_type": "stream",
     "text": [
      "[01]  KO 2017-02-06T08:48:UTC r2lab                    raj85.vishwakarma@gmail.com\n",
      "[02]  KO 2017-03-09T09:12:UTC r2lab                    yassir.mr4@gmail.com\n",
      "[03]  KO 2017-08-26T17:09:UTC r2lab                    rayansalhab@hotmail.com\n",
      "[04]  KO 2017-09-04T11:53:UTC r2lab                    29776716@qq.com\n",
      "[05]  KO 2017-09-27T18:42:UTC r2lab                    yuchia.tseng@irt-systemx.fr\n",
      "[06]  KO 2017-10-01T00:36:UTC r2lab                    sample@email.tst\n",
      "[07]  KO 2017-10-03T03:37:UTC r2lab                    a5566740293@gmail.com\n",
      "[08]  KO 2017-10-17T21:09:UTC r2lab                    rayclaytonrudman@hotmail.com\n",
      "[09]  KO 2017-10-28T13:32:UTC r2lab                    hishamalzain21@gmail.com\n",
      "[10]  KO 2017-10-29T09:29:UTC r2lab                    hisham_alzain21@yahoo.com\n",
      "[11]  KO 2017-11-04T09:10:UTC r2lab                    wuzhiguocarter@gmail.com\n",
      "[12]  KO 2017-12-13T11:00:UTC r2lab                    ayoub.bousselmi@orange.com\n",
      "[13]  KO 2018-01-11T14:56:UTC r2lab                    ayoub.bousselmi@gmail.com\n",
      "[14]  KO 2018-03-07T12:15:UTC r2lab                    obensoudakorachi@gmail.com\n"
     ]
    }
   ],
   "source": [
    "show_accounts(r2lab_selected_accounts)"
   ]
  },
  {
   "cell_type": "markdown",
   "metadata": {},
   "source": [
    "## other disabled accounts"
   ]
  },
  {
   "cell_type": "code",
   "execution_count": 38,
   "metadata": {},
   "outputs": [],
   "source": [
    "other_disabled_accounts = [ account for account in all_accounts \n",
    "                           if not account['enabled'] and 'r2lab' not in account['login_base']]"
   ]
  },
  {
   "cell_type": "code",
   "execution_count": 39,
   "metadata": {},
   "outputs": [
    {
     "name": "stdout",
     "output_type": "stream",
     "text": [
      "[01]  KO 2016-12-16T13:27:UTC inria                    mario-antonio.zancanaro@inria.fr\n",
      "[02]  KO 2017-01-10T11:52:UTC inria                    mario.zancanaro@inria.fr\n",
      "[03]  KO 2017-05-05T12:27:UTC eurecomple               kharade.rohan@iitb.ac.in\n",
      "[04]  KO 2017-05-11T09:48:UTC eurecomple               info@try-rx.com\n",
      "[05]  KO 2017-05-19T20:18:UTC eurecomple               yoseph.maloche@studenti.unitn.it\n",
      "[06]  KO 2017-05-24T08:09:UTC inria                    qwerty1643@skku.edu\n",
      "[07]  KO 2017-06-27T09:29:UTC unicamp                  christophe.letoquin@orange.com\n",
      "[08]  KO 2017-07-03T06:52:UTC inria                    manipooja1990@gmail.com\n",
      "[09]  KO 2017-08-27T07:31:UTC inria                    xo79@qq.com\n",
      "[10]  KO 2017-09-12T14:57:UTC inria                    zgouaksvic@mailstome.today\n",
      "[11]  KO 2017-09-26T19:49:UTC eurecoms3                dzakwanfalih@hotmail.com\n",
      "[12]  KO 2017-10-01T01:00:UTC eurecomple               j1ltnl01@r2labapi.pl.sophia.inria.fr\n",
      "[13]  KO 2017-11-01T07:57:UTC unicamp                  architjain121@gmail.com\n",
      "[14]  KO 2017-11-24T22:37:UTC inria                    iranshahi@gmail.com\n",
      "[15]  KO 2017-12-14T09:15:UTC inria                    lichking@maildrop.cc\n",
      "[16]  KO 2018-01-22T21:40:UTC eurecomple               ali.raza@oulu.fi\n",
      "[17]  KO 2018-03-07T10:34:UTC inria                    gayudoss12@gmail.com\n"
     ]
    }
   ],
   "source": [
    "show_accounts(other_disabled_accounts)"
   ]
  }
 ],
 "metadata": {
  "kernelspec": {
   "display_name": "Python 3",
   "language": "python",
   "name": "python3"
  },
  "language_info": {
   "codemirror_mode": {
    "name": "ipython",
    "version": 3
   },
   "file_extension": ".py",
   "mimetype": "text/x-python",
   "name": "python",
   "nbconvert_exporter": "python",
   "pygments_lexer": "ipython3",
   "version": "3.6.4"
  }
 },
 "nbformat": 4,
 "nbformat_minor": 2
}
